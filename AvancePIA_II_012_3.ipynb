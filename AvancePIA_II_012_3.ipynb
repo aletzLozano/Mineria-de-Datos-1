{
 "cells": [
  {
   "cell_type": "markdown",
   "metadata": {},
   "source": [
    "### Segundo Avance PIA \n",
    "#### Equipo 3\n",
    "#### Grupo 012, martes y jueves de 18:30 a 20:00 hrs\n",
    "#### Integrantes:\n",
    "- **1729734      De la Garza Fernandez, Carla Mayela**\n",
    "- **1625654      Zamarrón Medrano, Alan**\n",
    "\n",
    "-------------------------------------------\n",
    "### [Spotify Dataset 1921-2020, 160k+ Tracks](https://www.kaggle.com/yamaerenay/spotify-dataset-19212020-160k-tracks)\n",
    "### Music4U: Sistema de Recomendación Personalizado Solo Para Ti\n"
   ]
  },
  {
   "cell_type": "markdown",
   "metadata": {},
   "source": [
    "**Descripción de los Datos**\n",
    "\n",
    "La [Spotify Dataset 1921-2020, 160k+ Tracks](https://www.kaggle.com/yamaerenay/spotify-dataset-19212020-160k-tracks) es una base de datos que cuenta con más de 160,000 canciones que van desde el año 1921 al 2020 recopiladas de la API Web de Spotify. Los datos se encuentran en forma de tablas. Usaremos como tabla principal la tabla que contiene las canciones “data.csv”, pero también usaremos las tablas que están divididas por artista, año, género y artistas con género.\n",
    "\n",
    "Ahora, veremos una descripción de los datos en cuanto a las columnas, tipos de datos, tamaño de la base de datos, etc."
   ]
  },
  {
   "cell_type": "code",
   "execution_count": 70,
   "metadata": {},
   "outputs": [],
   "source": [
    "#Importamos las librerias necesarias\n",
    "import pandas as pd\n",
    "import zipfile as zp"
   ]
  },
  {
   "cell_type": "code",
   "execution_count": 71,
   "metadata": {},
   "outputs": [],
   "source": [
    "#Extraemos las tablas del archivo .zip, las leemos y las guardamos en las variables siguientes\n",
    "archive = zp.ZipFile(\"archive.zip\", \"r\")\n",
    "df = pd.read_csv(archive.open(\"data.csv\"))\n",
    "df_artist = pd.read_csv(archive.open(\"data_by_artist.csv\"))\n",
    "df_genre = pd.read_csv(archive.open(\"data_by_genres.csv\"))\n",
    "df_year = pd.read_csv(archive.open(\"data_by_year.csv\"))\n",
    "df_w_genre = pd.read_csv(archive.open(\"data_w_genres.csv\"))"
   ]
  },
  {
   "cell_type": "markdown",
   "metadata": {},
   "source": [
    "A continuación vemos la cantidad de filas o registros y el número de columnas que hay en cada tabla."
   ]
  },
  {
   "cell_type": "code",
   "execution_count": 72,
   "metadata": {},
   "outputs": [
    {
     "name": "stdout",
     "output_type": "stream",
     "text": [
      "Tabla canciones:  (169909, 19)\n",
      "Tabla clasificada por artistas:  (27621, 15)\n",
      "Tabla clasificada por generos:  (2664, 14)\n",
      "Tabla clasificada por años:  (100, 14)\n",
      "Tabla clasificada por artistas con generos:  (27621, 16)\n"
     ]
    }
   ],
   "source": [
    "print(\"Tabla canciones: \", df.shape)\n",
    "print(\"Tabla clasificada por artistas: \", df_artist.shape)\n",
    "print(\"Tabla clasificada por generos: \", df_genre.shape)\n",
    "print(\"Tabla clasificada por años: \", df_year.shape)\n",
    "print(\"Tabla clasificada por artistas con generos: \", df_w_genre.shape)"
   ]
  },
  {
   "cell_type": "markdown",
   "metadata": {},
   "source": [
    "Ahora veremos qué tipo de datos contienen nuestras tablas. Podemos observar a continuación que las tablas en general contienen en su mayoría datos númericos (datos flotantes y enteros), a excepción de algunas columnas que contienen strings.\n",
    "\n",
    "**Tabla canciones**"
   ]
  },
  {
   "cell_type": "code",
   "execution_count": 73,
   "metadata": {},
   "outputs": [
    {
     "data": {
      "text/plain": [
       "acousticness        float64\n",
       "artists              object\n",
       "danceability        float64\n",
       "duration_ms           int64\n",
       "energy              float64\n",
       "explicit              int64\n",
       "id                   object\n",
       "instrumentalness    float64\n",
       "key                   int64\n",
       "liveness            float64\n",
       "loudness            float64\n",
       "mode                  int64\n",
       "name                 object\n",
       "popularity            int64\n",
       "release_date         object\n",
       "speechiness         float64\n",
       "tempo               float64\n",
       "valence             float64\n",
       "year                  int64\n",
       "dtype: object"
      ]
     },
     "execution_count": 73,
     "metadata": {},
     "output_type": "execute_result"
    }
   ],
   "source": [
    "df.dtypes"
   ]
  },
  {
   "cell_type": "markdown",
   "metadata": {},
   "source": [
    "**Tabla clasificada por artistas**"
   ]
  },
  {
   "cell_type": "code",
   "execution_count": 74,
   "metadata": {},
   "outputs": [
    {
     "data": {
      "text/plain": [
       "artists              object\n",
       "acousticness        float64\n",
       "danceability        float64\n",
       "duration_ms         float64\n",
       "energy              float64\n",
       "instrumentalness    float64\n",
       "liveness            float64\n",
       "loudness            float64\n",
       "speechiness         float64\n",
       "tempo               float64\n",
       "valence             float64\n",
       "popularity          float64\n",
       "key                   int64\n",
       "mode                  int64\n",
       "count                 int64\n",
       "dtype: object"
      ]
     },
     "execution_count": 74,
     "metadata": {},
     "output_type": "execute_result"
    }
   ],
   "source": [
    "df_artist.dtypes"
   ]
  },
  {
   "cell_type": "markdown",
   "metadata": {},
   "source": [
    "**Tabla clasificada por géneros**"
   ]
  },
  {
   "cell_type": "code",
   "execution_count": 75,
   "metadata": {},
   "outputs": [
    {
     "data": {
      "text/plain": [
       "genres               object\n",
       "acousticness        float64\n",
       "danceability        float64\n",
       "duration_ms         float64\n",
       "energy              float64\n",
       "instrumentalness    float64\n",
       "liveness            float64\n",
       "loudness            float64\n",
       "speechiness         float64\n",
       "tempo               float64\n",
       "valence             float64\n",
       "popularity          float64\n",
       "key                   int64\n",
       "mode                  int64\n",
       "dtype: object"
      ]
     },
     "execution_count": 75,
     "metadata": {},
     "output_type": "execute_result"
    }
   ],
   "source": [
    "df_genre.dtypes"
   ]
  },
  {
   "cell_type": "markdown",
   "metadata": {},
   "source": [
    "**Tabla clasificada por años**"
   ]
  },
  {
   "cell_type": "code",
   "execution_count": 76,
   "metadata": {},
   "outputs": [
    {
     "data": {
      "text/plain": [
       "year                  int64\n",
       "acousticness        float64\n",
       "danceability        float64\n",
       "duration_ms         float64\n",
       "energy              float64\n",
       "instrumentalness    float64\n",
       "liveness            float64\n",
       "loudness            float64\n",
       "speechiness         float64\n",
       "tempo               float64\n",
       "valence             float64\n",
       "popularity          float64\n",
       "key                   int64\n",
       "mode                  int64\n",
       "dtype: object"
      ]
     },
     "execution_count": 76,
     "metadata": {},
     "output_type": "execute_result"
    }
   ],
   "source": [
    "df_year.dtypes"
   ]
  },
  {
   "cell_type": "markdown",
   "metadata": {},
   "source": [
    "**Tabla clasificada por artistas con géneros**"
   ]
  },
  {
   "cell_type": "code",
   "execution_count": 77,
   "metadata": {},
   "outputs": [
    {
     "data": {
      "text/plain": [
       "artists              object\n",
       "acousticness        float64\n",
       "danceability        float64\n",
       "duration_ms         float64\n",
       "energy              float64\n",
       "instrumentalness    float64\n",
       "liveness            float64\n",
       "loudness            float64\n",
       "speechiness         float64\n",
       "tempo               float64\n",
       "valence             float64\n",
       "popularity          float64\n",
       "key                   int64\n",
       "mode                  int64\n",
       "count                 int64\n",
       "genres               object\n",
       "dtype: object"
      ]
     },
     "execution_count": 77,
     "metadata": {},
     "output_type": "execute_result"
    }
   ],
   "source": [
    "df_w_genre.dtypes"
   ]
  },
  {
   "cell_type": "markdown",
   "metadata": {},
   "source": [
    "------\n",
    "**Justificación del Uso de Datos**\n",
    "\n",
    "Decidimos utilizar esta base de datos porque los datos son muy completos y porque pudimos plantearnos varios objetivos al momento de decidir qué objetivo final utilizar. Otro aspecto muy importante para nosotros es que en la página de Kaggle muestran que esta base de datos tiene una calificación de 10.0 de usabilidad. Además de que cuenta con suficientes datos para nuestro proyecto.\n",
    "\n",
    "También, resulta muy interesante que podamos aplicar la ciencia, las matemáticas y el aprendizaje de máquina para analizar música, un aspecto común y casi indispensable en nuestro día a día.\n",
    "\n",
    "A diferencia de otras bases de datos también encontradas en Kaggle, esta particularmente cuenta con columnas que son muy útiles, tales como año de lanzamiento, artista, nombre, popularidad, género.\n",
    "\n",
    "-----\n",
    "**Objetivo Principal**\n",
    "\n",
    "Realizar un sistema de recomendación que sea personalizado para los usuarios de tal forma que mejore la experiencia de usuario.\n",
    "\n",
    "**Objetivos Secundarios**\n",
    "\n",
    "- Predecir qué artistas y qué géneros de música lanzarán la música más popular en el año siguiente, en base a los datos con lo que ya contamos.\n",
    "- Analizar cuáles han sido los géneros más populares y explicar el por qué, analizando tambien los aspectos relacionados a estos, como la bailabilidad.\n",
    "\n",
    "---\n",
    "### Desarrollo de las Herramientas\n",
    "\n",
    "**Limpieza de Datos**\n",
    "\n",
    "A continuación mostramos los datos de cada tabla sin manipulación.\n",
    "\n",
    "**Tabla canciones**\n"
   ]
  },
  {
   "cell_type": "code",
   "execution_count": 78,
   "metadata": {},
   "outputs": [
    {
     "data": {
      "text/html": [
       "<div>\n",
       "<style scoped>\n",
       "    .dataframe tbody tr th:only-of-type {\n",
       "        vertical-align: middle;\n",
       "    }\n",
       "\n",
       "    .dataframe tbody tr th {\n",
       "        vertical-align: top;\n",
       "    }\n",
       "\n",
       "    .dataframe thead th {\n",
       "        text-align: right;\n",
       "    }\n",
       "</style>\n",
       "<table border=\"1\" class=\"dataframe\">\n",
       "  <thead>\n",
       "    <tr style=\"text-align: right;\">\n",
       "      <th></th>\n",
       "      <th>acousticness</th>\n",
       "      <th>artists</th>\n",
       "      <th>danceability</th>\n",
       "      <th>duration_ms</th>\n",
       "      <th>energy</th>\n",
       "      <th>explicit</th>\n",
       "      <th>id</th>\n",
       "      <th>instrumentalness</th>\n",
       "      <th>key</th>\n",
       "      <th>liveness</th>\n",
       "      <th>loudness</th>\n",
       "      <th>mode</th>\n",
       "      <th>name</th>\n",
       "      <th>popularity</th>\n",
       "      <th>release_date</th>\n",
       "      <th>speechiness</th>\n",
       "      <th>tempo</th>\n",
       "      <th>valence</th>\n",
       "      <th>year</th>\n",
       "    </tr>\n",
       "  </thead>\n",
       "  <tbody>\n",
       "    <tr>\n",
       "      <th>0</th>\n",
       "      <td>0.995</td>\n",
       "      <td>['Carl Woitschach']</td>\n",
       "      <td>0.708</td>\n",
       "      <td>158648</td>\n",
       "      <td>0.1950</td>\n",
       "      <td>0</td>\n",
       "      <td>6KbQ3uYMLKb5jDxLF7wYDD</td>\n",
       "      <td>0.563</td>\n",
       "      <td>10</td>\n",
       "      <td>0.1510</td>\n",
       "      <td>-12.428</td>\n",
       "      <td>1</td>\n",
       "      <td>Singende Bataillone 1. Teil</td>\n",
       "      <td>0</td>\n",
       "      <td>1928</td>\n",
       "      <td>0.0506</td>\n",
       "      <td>118.469</td>\n",
       "      <td>0.7790</td>\n",
       "      <td>1928</td>\n",
       "    </tr>\n",
       "    <tr>\n",
       "      <th>1</th>\n",
       "      <td>0.994</td>\n",
       "      <td>['Robert Schumann', 'Vladimir Horowitz']</td>\n",
       "      <td>0.379</td>\n",
       "      <td>282133</td>\n",
       "      <td>0.0135</td>\n",
       "      <td>0</td>\n",
       "      <td>6KuQTIu1KoTTkLXKrwlLPV</td>\n",
       "      <td>0.901</td>\n",
       "      <td>8</td>\n",
       "      <td>0.0763</td>\n",
       "      <td>-28.454</td>\n",
       "      <td>1</td>\n",
       "      <td>Fantasiestücke, Op. 111: Più tosto lento</td>\n",
       "      <td>0</td>\n",
       "      <td>1928</td>\n",
       "      <td>0.0462</td>\n",
       "      <td>83.972</td>\n",
       "      <td>0.0767</td>\n",
       "      <td>1928</td>\n",
       "    </tr>\n",
       "    <tr>\n",
       "      <th>2</th>\n",
       "      <td>0.604</td>\n",
       "      <td>['Seweryn Goszczyński']</td>\n",
       "      <td>0.749</td>\n",
       "      <td>104300</td>\n",
       "      <td>0.2200</td>\n",
       "      <td>0</td>\n",
       "      <td>6L63VW0PibdM1HDSBoqnoM</td>\n",
       "      <td>0.000</td>\n",
       "      <td>5</td>\n",
       "      <td>0.1190</td>\n",
       "      <td>-19.924</td>\n",
       "      <td>0</td>\n",
       "      <td>Chapter 1.18 - Zamek kaniowski</td>\n",
       "      <td>0</td>\n",
       "      <td>1928</td>\n",
       "      <td>0.9290</td>\n",
       "      <td>107.177</td>\n",
       "      <td>0.8800</td>\n",
       "      <td>1928</td>\n",
       "    </tr>\n",
       "    <tr>\n",
       "      <th>3</th>\n",
       "      <td>0.995</td>\n",
       "      <td>['Francisco Canaro']</td>\n",
       "      <td>0.781</td>\n",
       "      <td>180760</td>\n",
       "      <td>0.1300</td>\n",
       "      <td>0</td>\n",
       "      <td>6M94FkXd15sOAOQYRnWPN8</td>\n",
       "      <td>0.887</td>\n",
       "      <td>1</td>\n",
       "      <td>0.1110</td>\n",
       "      <td>-14.734</td>\n",
       "      <td>0</td>\n",
       "      <td>Bebamos Juntos - Instrumental (Remasterizado)</td>\n",
       "      <td>0</td>\n",
       "      <td>1928-09-25</td>\n",
       "      <td>0.0926</td>\n",
       "      <td>108.003</td>\n",
       "      <td>0.7200</td>\n",
       "      <td>1928</td>\n",
       "    </tr>\n",
       "    <tr>\n",
       "      <th>4</th>\n",
       "      <td>0.990</td>\n",
       "      <td>['Frédéric Chopin', 'Vladimir Horowitz']</td>\n",
       "      <td>0.210</td>\n",
       "      <td>687733</td>\n",
       "      <td>0.2040</td>\n",
       "      <td>0</td>\n",
       "      <td>6N6tiFZ9vLTSOIxkj8qKrd</td>\n",
       "      <td>0.908</td>\n",
       "      <td>11</td>\n",
       "      <td>0.0980</td>\n",
       "      <td>-16.829</td>\n",
       "      <td>1</td>\n",
       "      <td>Polonaise-Fantaisie in A-Flat Major, Op. 61</td>\n",
       "      <td>1</td>\n",
       "      <td>1928</td>\n",
       "      <td>0.0424</td>\n",
       "      <td>62.149</td>\n",
       "      <td>0.0693</td>\n",
       "      <td>1928</td>\n",
       "    </tr>\n",
       "  </tbody>\n",
       "</table>\n",
       "</div>"
      ],
      "text/plain": [
       "   acousticness                                   artists  danceability  \\\n",
       "0         0.995                       ['Carl Woitschach']         0.708   \n",
       "1         0.994  ['Robert Schumann', 'Vladimir Horowitz']         0.379   \n",
       "2         0.604                   ['Seweryn Goszczyński']         0.749   \n",
       "3         0.995                      ['Francisco Canaro']         0.781   \n",
       "4         0.990  ['Frédéric Chopin', 'Vladimir Horowitz']         0.210   \n",
       "\n",
       "   duration_ms  energy  explicit                      id  instrumentalness  \\\n",
       "0       158648  0.1950         0  6KbQ3uYMLKb5jDxLF7wYDD             0.563   \n",
       "1       282133  0.0135         0  6KuQTIu1KoTTkLXKrwlLPV             0.901   \n",
       "2       104300  0.2200         0  6L63VW0PibdM1HDSBoqnoM             0.000   \n",
       "3       180760  0.1300         0  6M94FkXd15sOAOQYRnWPN8             0.887   \n",
       "4       687733  0.2040         0  6N6tiFZ9vLTSOIxkj8qKrd             0.908   \n",
       "\n",
       "   key  liveness  loudness  mode  \\\n",
       "0   10    0.1510   -12.428     1   \n",
       "1    8    0.0763   -28.454     1   \n",
       "2    5    0.1190   -19.924     0   \n",
       "3    1    0.1110   -14.734     0   \n",
       "4   11    0.0980   -16.829     1   \n",
       "\n",
       "                                            name  popularity release_date  \\\n",
       "0                    Singende Bataillone 1. Teil           0         1928   \n",
       "1       Fantasiestücke, Op. 111: Più tosto lento           0         1928   \n",
       "2                 Chapter 1.18 - Zamek kaniowski           0         1928   \n",
       "3  Bebamos Juntos - Instrumental (Remasterizado)           0   1928-09-25   \n",
       "4    Polonaise-Fantaisie in A-Flat Major, Op. 61           1         1928   \n",
       "\n",
       "   speechiness    tempo  valence  year  \n",
       "0       0.0506  118.469   0.7790  1928  \n",
       "1       0.0462   83.972   0.0767  1928  \n",
       "2       0.9290  107.177   0.8800  1928  \n",
       "3       0.0926  108.003   0.7200  1928  \n",
       "4       0.0424   62.149   0.0693  1928  "
      ]
     },
     "execution_count": 78,
     "metadata": {},
     "output_type": "execute_result"
    }
   ],
   "source": [
    "df.head()"
   ]
  },
  {
   "cell_type": "markdown",
   "metadata": {},
   "source": [
    "**Tabla clasificada por artistas**"
   ]
  },
  {
   "cell_type": "code",
   "execution_count": 79,
   "metadata": {},
   "outputs": [
    {
     "data": {
      "text/html": [
       "<div>\n",
       "<style scoped>\n",
       "    .dataframe tbody tr th:only-of-type {\n",
       "        vertical-align: middle;\n",
       "    }\n",
       "\n",
       "    .dataframe tbody tr th {\n",
       "        vertical-align: top;\n",
       "    }\n",
       "\n",
       "    .dataframe thead th {\n",
       "        text-align: right;\n",
       "    }\n",
       "</style>\n",
       "<table border=\"1\" class=\"dataframe\">\n",
       "  <thead>\n",
       "    <tr style=\"text-align: right;\">\n",
       "      <th></th>\n",
       "      <th>artists</th>\n",
       "      <th>acousticness</th>\n",
       "      <th>danceability</th>\n",
       "      <th>duration_ms</th>\n",
       "      <th>energy</th>\n",
       "      <th>instrumentalness</th>\n",
       "      <th>liveness</th>\n",
       "      <th>loudness</th>\n",
       "      <th>speechiness</th>\n",
       "      <th>tempo</th>\n",
       "      <th>valence</th>\n",
       "      <th>popularity</th>\n",
       "      <th>key</th>\n",
       "      <th>mode</th>\n",
       "      <th>count</th>\n",
       "    </tr>\n",
       "  </thead>\n",
       "  <tbody>\n",
       "    <tr>\n",
       "      <th>0</th>\n",
       "      <td>\"Cats\" 1981 Original London Cast</td>\n",
       "      <td>0.575083</td>\n",
       "      <td>0.442750</td>\n",
       "      <td>247260.000000</td>\n",
       "      <td>0.386336</td>\n",
       "      <td>0.022717</td>\n",
       "      <td>0.287708</td>\n",
       "      <td>-14.205417</td>\n",
       "      <td>0.180675</td>\n",
       "      <td>115.983500</td>\n",
       "      <td>0.334433</td>\n",
       "      <td>38.000000</td>\n",
       "      <td>5</td>\n",
       "      <td>1</td>\n",
       "      <td>12</td>\n",
       "    </tr>\n",
       "    <tr>\n",
       "      <th>1</th>\n",
       "      <td>\"Cats\" 1983 Broadway Cast</td>\n",
       "      <td>0.862538</td>\n",
       "      <td>0.441731</td>\n",
       "      <td>287280.000000</td>\n",
       "      <td>0.406808</td>\n",
       "      <td>0.081158</td>\n",
       "      <td>0.315215</td>\n",
       "      <td>-10.690000</td>\n",
       "      <td>0.176212</td>\n",
       "      <td>103.044154</td>\n",
       "      <td>0.268865</td>\n",
       "      <td>33.076923</td>\n",
       "      <td>5</td>\n",
       "      <td>1</td>\n",
       "      <td>26</td>\n",
       "    </tr>\n",
       "    <tr>\n",
       "      <th>2</th>\n",
       "      <td>\"Fiddler On The Roof” Motion Picture Chorus</td>\n",
       "      <td>0.856571</td>\n",
       "      <td>0.348286</td>\n",
       "      <td>328920.000000</td>\n",
       "      <td>0.286571</td>\n",
       "      <td>0.024593</td>\n",
       "      <td>0.325786</td>\n",
       "      <td>-15.230714</td>\n",
       "      <td>0.118514</td>\n",
       "      <td>77.375857</td>\n",
       "      <td>0.354857</td>\n",
       "      <td>34.285714</td>\n",
       "      <td>0</td>\n",
       "      <td>1</td>\n",
       "      <td>7</td>\n",
       "    </tr>\n",
       "    <tr>\n",
       "      <th>3</th>\n",
       "      <td>\"Fiddler On The Roof” Motion Picture Orchestra</td>\n",
       "      <td>0.884926</td>\n",
       "      <td>0.425074</td>\n",
       "      <td>262890.962963</td>\n",
       "      <td>0.245770</td>\n",
       "      <td>0.073587</td>\n",
       "      <td>0.275481</td>\n",
       "      <td>-15.639370</td>\n",
       "      <td>0.123200</td>\n",
       "      <td>88.667630</td>\n",
       "      <td>0.372030</td>\n",
       "      <td>34.444444</td>\n",
       "      <td>0</td>\n",
       "      <td>1</td>\n",
       "      <td>27</td>\n",
       "    </tr>\n",
       "    <tr>\n",
       "      <th>4</th>\n",
       "      <td>\"Joseph And The Amazing Technicolor Dreamcoat\"...</td>\n",
       "      <td>0.605444</td>\n",
       "      <td>0.437333</td>\n",
       "      <td>232428.111111</td>\n",
       "      <td>0.429333</td>\n",
       "      <td>0.037534</td>\n",
       "      <td>0.216111</td>\n",
       "      <td>-11.447222</td>\n",
       "      <td>0.086000</td>\n",
       "      <td>120.329667</td>\n",
       "      <td>0.458667</td>\n",
       "      <td>42.555556</td>\n",
       "      <td>11</td>\n",
       "      <td>1</td>\n",
       "      <td>9</td>\n",
       "    </tr>\n",
       "  </tbody>\n",
       "</table>\n",
       "</div>"
      ],
      "text/plain": [
       "                                             artists  acousticness  \\\n",
       "0                   \"Cats\" 1981 Original London Cast      0.575083   \n",
       "1                          \"Cats\" 1983 Broadway Cast      0.862538   \n",
       "2        \"Fiddler On The Roof” Motion Picture Chorus      0.856571   \n",
       "3     \"Fiddler On The Roof” Motion Picture Orchestra      0.884926   \n",
       "4  \"Joseph And The Amazing Technicolor Dreamcoat\"...      0.605444   \n",
       "\n",
       "   danceability    duration_ms    energy  instrumentalness  liveness  \\\n",
       "0      0.442750  247260.000000  0.386336          0.022717  0.287708   \n",
       "1      0.441731  287280.000000  0.406808          0.081158  0.315215   \n",
       "2      0.348286  328920.000000  0.286571          0.024593  0.325786   \n",
       "3      0.425074  262890.962963  0.245770          0.073587  0.275481   \n",
       "4      0.437333  232428.111111  0.429333          0.037534  0.216111   \n",
       "\n",
       "    loudness  speechiness       tempo   valence  popularity  key  mode  count  \n",
       "0 -14.205417     0.180675  115.983500  0.334433   38.000000    5     1     12  \n",
       "1 -10.690000     0.176212  103.044154  0.268865   33.076923    5     1     26  \n",
       "2 -15.230714     0.118514   77.375857  0.354857   34.285714    0     1      7  \n",
       "3 -15.639370     0.123200   88.667630  0.372030   34.444444    0     1     27  \n",
       "4 -11.447222     0.086000  120.329667  0.458667   42.555556   11     1      9  "
      ]
     },
     "execution_count": 79,
     "metadata": {},
     "output_type": "execute_result"
    }
   ],
   "source": [
    "df_artist.head()"
   ]
  },
  {
   "cell_type": "markdown",
   "metadata": {},
   "source": [
    "**Tabla clasificada por géneros**"
   ]
  },
  {
   "cell_type": "code",
   "execution_count": 80,
   "metadata": {},
   "outputs": [
    {
     "data": {
      "text/html": [
       "<div>\n",
       "<style scoped>\n",
       "    .dataframe tbody tr th:only-of-type {\n",
       "        vertical-align: middle;\n",
       "    }\n",
       "\n",
       "    .dataframe tbody tr th {\n",
       "        vertical-align: top;\n",
       "    }\n",
       "\n",
       "    .dataframe thead th {\n",
       "        text-align: right;\n",
       "    }\n",
       "</style>\n",
       "<table border=\"1\" class=\"dataframe\">\n",
       "  <thead>\n",
       "    <tr style=\"text-align: right;\">\n",
       "      <th></th>\n",
       "      <th>genres</th>\n",
       "      <th>acousticness</th>\n",
       "      <th>danceability</th>\n",
       "      <th>duration_ms</th>\n",
       "      <th>energy</th>\n",
       "      <th>instrumentalness</th>\n",
       "      <th>liveness</th>\n",
       "      <th>loudness</th>\n",
       "      <th>speechiness</th>\n",
       "      <th>tempo</th>\n",
       "      <th>valence</th>\n",
       "      <th>popularity</th>\n",
       "      <th>key</th>\n",
       "      <th>mode</th>\n",
       "    </tr>\n",
       "  </thead>\n",
       "  <tbody>\n",
       "    <tr>\n",
       "      <th>0</th>\n",
       "      <td>432hz</td>\n",
       "      <td>0.494780</td>\n",
       "      <td>0.299333</td>\n",
       "      <td>1.048887e+06</td>\n",
       "      <td>0.450678</td>\n",
       "      <td>0.477762</td>\n",
       "      <td>0.131000</td>\n",
       "      <td>-16.854000</td>\n",
       "      <td>0.076817</td>\n",
       "      <td>120.285667</td>\n",
       "      <td>0.221750</td>\n",
       "      <td>52.166667</td>\n",
       "      <td>5</td>\n",
       "      <td>1</td>\n",
       "    </tr>\n",
       "    <tr>\n",
       "      <th>1</th>\n",
       "      <td>[]</td>\n",
       "      <td>0.679245</td>\n",
       "      <td>0.521473</td>\n",
       "      <td>2.298526e+05</td>\n",
       "      <td>0.401522</td>\n",
       "      <td>0.196737</td>\n",
       "      <td>0.221586</td>\n",
       "      <td>-12.679076</td>\n",
       "      <td>0.112267</td>\n",
       "      <td>112.025168</td>\n",
       "      <td>0.515920</td>\n",
       "      <td>21.682005</td>\n",
       "      <td>7</td>\n",
       "      <td>1</td>\n",
       "    </tr>\n",
       "    <tr>\n",
       "      <th>2</th>\n",
       "      <td>a cappella</td>\n",
       "      <td>0.621532</td>\n",
       "      <td>0.577017</td>\n",
       "      <td>1.936522e+05</td>\n",
       "      <td>0.345694</td>\n",
       "      <td>0.003799</td>\n",
       "      <td>0.127087</td>\n",
       "      <td>-12.770211</td>\n",
       "      <td>0.095324</td>\n",
       "      <td>111.813230</td>\n",
       "      <td>0.453186</td>\n",
       "      <td>43.351819</td>\n",
       "      <td>11</td>\n",
       "      <td>1</td>\n",
       "    </tr>\n",
       "    <tr>\n",
       "      <th>3</th>\n",
       "      <td>abstract</td>\n",
       "      <td>0.359395</td>\n",
       "      <td>0.459500</td>\n",
       "      <td>3.430185e+05</td>\n",
       "      <td>0.487000</td>\n",
       "      <td>0.791400</td>\n",
       "      <td>0.119480</td>\n",
       "      <td>-14.092000</td>\n",
       "      <td>0.043420</td>\n",
       "      <td>124.743200</td>\n",
       "      <td>0.304990</td>\n",
       "      <td>41.500000</td>\n",
       "      <td>1</td>\n",
       "      <td>1</td>\n",
       "    </tr>\n",
       "    <tr>\n",
       "      <th>4</th>\n",
       "      <td>abstract beats</td>\n",
       "      <td>0.353347</td>\n",
       "      <td>0.694400</td>\n",
       "      <td>2.338244e+05</td>\n",
       "      <td>0.613400</td>\n",
       "      <td>0.349403</td>\n",
       "      <td>0.102453</td>\n",
       "      <td>-6.699800</td>\n",
       "      <td>0.143453</td>\n",
       "      <td>119.398400</td>\n",
       "      <td>0.634187</td>\n",
       "      <td>58.600000</td>\n",
       "      <td>10</td>\n",
       "      <td>0</td>\n",
       "    </tr>\n",
       "  </tbody>\n",
       "</table>\n",
       "</div>"
      ],
      "text/plain": [
       "           genres  acousticness  danceability   duration_ms    energy  \\\n",
       "0           432hz      0.494780      0.299333  1.048887e+06  0.450678   \n",
       "1              []      0.679245      0.521473  2.298526e+05  0.401522   \n",
       "2      a cappella      0.621532      0.577017  1.936522e+05  0.345694   \n",
       "3        abstract      0.359395      0.459500  3.430185e+05  0.487000   \n",
       "4  abstract beats      0.353347      0.694400  2.338244e+05  0.613400   \n",
       "\n",
       "   instrumentalness  liveness   loudness  speechiness       tempo   valence  \\\n",
       "0          0.477762  0.131000 -16.854000     0.076817  120.285667  0.221750   \n",
       "1          0.196737  0.221586 -12.679076     0.112267  112.025168  0.515920   \n",
       "2          0.003799  0.127087 -12.770211     0.095324  111.813230  0.453186   \n",
       "3          0.791400  0.119480 -14.092000     0.043420  124.743200  0.304990   \n",
       "4          0.349403  0.102453  -6.699800     0.143453  119.398400  0.634187   \n",
       "\n",
       "   popularity  key  mode  \n",
       "0   52.166667    5     1  \n",
       "1   21.682005    7     1  \n",
       "2   43.351819   11     1  \n",
       "3   41.500000    1     1  \n",
       "4   58.600000   10     0  "
      ]
     },
     "execution_count": 80,
     "metadata": {},
     "output_type": "execute_result"
    }
   ],
   "source": [
    "df_genre.head()"
   ]
  },
  {
   "cell_type": "markdown",
   "metadata": {},
   "source": [
    "**Tabla clasificada por años**"
   ]
  },
  {
   "cell_type": "code",
   "execution_count": 81,
   "metadata": {},
   "outputs": [
    {
     "data": {
      "text/html": [
       "<div>\n",
       "<style scoped>\n",
       "    .dataframe tbody tr th:only-of-type {\n",
       "        vertical-align: middle;\n",
       "    }\n",
       "\n",
       "    .dataframe tbody tr th {\n",
       "        vertical-align: top;\n",
       "    }\n",
       "\n",
       "    .dataframe thead th {\n",
       "        text-align: right;\n",
       "    }\n",
       "</style>\n",
       "<table border=\"1\" class=\"dataframe\">\n",
       "  <thead>\n",
       "    <tr style=\"text-align: right;\">\n",
       "      <th></th>\n",
       "      <th>year</th>\n",
       "      <th>acousticness</th>\n",
       "      <th>danceability</th>\n",
       "      <th>duration_ms</th>\n",
       "      <th>energy</th>\n",
       "      <th>instrumentalness</th>\n",
       "      <th>liveness</th>\n",
       "      <th>loudness</th>\n",
       "      <th>speechiness</th>\n",
       "      <th>tempo</th>\n",
       "      <th>valence</th>\n",
       "      <th>popularity</th>\n",
       "      <th>key</th>\n",
       "      <th>mode</th>\n",
       "    </tr>\n",
       "  </thead>\n",
       "  <tbody>\n",
       "    <tr>\n",
       "      <th>0</th>\n",
       "      <td>1921</td>\n",
       "      <td>0.895823</td>\n",
       "      <td>0.425661</td>\n",
       "      <td>229911.914062</td>\n",
       "      <td>0.236784</td>\n",
       "      <td>0.322330</td>\n",
       "      <td>0.215814</td>\n",
       "      <td>-17.095437</td>\n",
       "      <td>0.077258</td>\n",
       "      <td>100.397758</td>\n",
       "      <td>0.425495</td>\n",
       "      <td>0.351562</td>\n",
       "      <td>7</td>\n",
       "      <td>1</td>\n",
       "    </tr>\n",
       "    <tr>\n",
       "      <th>1</th>\n",
       "      <td>1922</td>\n",
       "      <td>0.939236</td>\n",
       "      <td>0.480000</td>\n",
       "      <td>167904.541667</td>\n",
       "      <td>0.237026</td>\n",
       "      <td>0.440470</td>\n",
       "      <td>0.238647</td>\n",
       "      <td>-19.179958</td>\n",
       "      <td>0.115419</td>\n",
       "      <td>101.376139</td>\n",
       "      <td>0.534056</td>\n",
       "      <td>0.138889</td>\n",
       "      <td>10</td>\n",
       "      <td>1</td>\n",
       "    </tr>\n",
       "    <tr>\n",
       "      <th>2</th>\n",
       "      <td>1923</td>\n",
       "      <td>0.976329</td>\n",
       "      <td>0.568462</td>\n",
       "      <td>178356.301775</td>\n",
       "      <td>0.246936</td>\n",
       "      <td>0.401932</td>\n",
       "      <td>0.236656</td>\n",
       "      <td>-14.373882</td>\n",
       "      <td>0.098619</td>\n",
       "      <td>112.456598</td>\n",
       "      <td>0.624788</td>\n",
       "      <td>5.727811</td>\n",
       "      <td>0</td>\n",
       "      <td>1</td>\n",
       "    </tr>\n",
       "    <tr>\n",
       "      <th>3</th>\n",
       "      <td>1924</td>\n",
       "      <td>0.935575</td>\n",
       "      <td>0.548654</td>\n",
       "      <td>188461.649789</td>\n",
       "      <td>0.347033</td>\n",
       "      <td>0.583955</td>\n",
       "      <td>0.237875</td>\n",
       "      <td>-14.202304</td>\n",
       "      <td>0.090210</td>\n",
       "      <td>120.653359</td>\n",
       "      <td>0.668574</td>\n",
       "      <td>0.603376</td>\n",
       "      <td>10</td>\n",
       "      <td>1</td>\n",
       "    </tr>\n",
       "    <tr>\n",
       "      <th>4</th>\n",
       "      <td>1925</td>\n",
       "      <td>0.965422</td>\n",
       "      <td>0.571890</td>\n",
       "      <td>184130.699620</td>\n",
       "      <td>0.264373</td>\n",
       "      <td>0.408893</td>\n",
       "      <td>0.243094</td>\n",
       "      <td>-14.516707</td>\n",
       "      <td>0.115457</td>\n",
       "      <td>115.671715</td>\n",
       "      <td>0.616430</td>\n",
       "      <td>2.707224</td>\n",
       "      <td>5</td>\n",
       "      <td>1</td>\n",
       "    </tr>\n",
       "  </tbody>\n",
       "</table>\n",
       "</div>"
      ],
      "text/plain": [
       "   year  acousticness  danceability    duration_ms    energy  \\\n",
       "0  1921      0.895823      0.425661  229911.914062  0.236784   \n",
       "1  1922      0.939236      0.480000  167904.541667  0.237026   \n",
       "2  1923      0.976329      0.568462  178356.301775  0.246936   \n",
       "3  1924      0.935575      0.548654  188461.649789  0.347033   \n",
       "4  1925      0.965422      0.571890  184130.699620  0.264373   \n",
       "\n",
       "   instrumentalness  liveness   loudness  speechiness       tempo   valence  \\\n",
       "0          0.322330  0.215814 -17.095437     0.077258  100.397758  0.425495   \n",
       "1          0.440470  0.238647 -19.179958     0.115419  101.376139  0.534056   \n",
       "2          0.401932  0.236656 -14.373882     0.098619  112.456598  0.624788   \n",
       "3          0.583955  0.237875 -14.202304     0.090210  120.653359  0.668574   \n",
       "4          0.408893  0.243094 -14.516707     0.115457  115.671715  0.616430   \n",
       "\n",
       "   popularity  key  mode  \n",
       "0    0.351562    7     1  \n",
       "1    0.138889   10     1  \n",
       "2    5.727811    0     1  \n",
       "3    0.603376   10     1  \n",
       "4    2.707224    5     1  "
      ]
     },
     "execution_count": 81,
     "metadata": {},
     "output_type": "execute_result"
    }
   ],
   "source": [
    "df_year.head()"
   ]
  },
  {
   "cell_type": "markdown",
   "metadata": {},
   "source": [
    "**Tabla clasificada por artistas con géneros**"
   ]
  },
  {
   "cell_type": "code",
   "execution_count": 82,
   "metadata": {},
   "outputs": [
    {
     "data": {
      "text/html": [
       "<div>\n",
       "<style scoped>\n",
       "    .dataframe tbody tr th:only-of-type {\n",
       "        vertical-align: middle;\n",
       "    }\n",
       "\n",
       "    .dataframe tbody tr th {\n",
       "        vertical-align: top;\n",
       "    }\n",
       "\n",
       "    .dataframe thead th {\n",
       "        text-align: right;\n",
       "    }\n",
       "</style>\n",
       "<table border=\"1\" class=\"dataframe\">\n",
       "  <thead>\n",
       "    <tr style=\"text-align: right;\">\n",
       "      <th></th>\n",
       "      <th>artists</th>\n",
       "      <th>acousticness</th>\n",
       "      <th>danceability</th>\n",
       "      <th>duration_ms</th>\n",
       "      <th>energy</th>\n",
       "      <th>instrumentalness</th>\n",
       "      <th>liveness</th>\n",
       "      <th>loudness</th>\n",
       "      <th>speechiness</th>\n",
       "      <th>tempo</th>\n",
       "      <th>valence</th>\n",
       "      <th>popularity</th>\n",
       "      <th>key</th>\n",
       "      <th>mode</th>\n",
       "      <th>count</th>\n",
       "      <th>genres</th>\n",
       "    </tr>\n",
       "  </thead>\n",
       "  <tbody>\n",
       "    <tr>\n",
       "      <th>0</th>\n",
       "      <td>\"Cats\" 1981 Original London Cast</td>\n",
       "      <td>0.575083</td>\n",
       "      <td>0.442750</td>\n",
       "      <td>247260.000000</td>\n",
       "      <td>0.386336</td>\n",
       "      <td>0.022717</td>\n",
       "      <td>0.287708</td>\n",
       "      <td>-14.205417</td>\n",
       "      <td>0.180675</td>\n",
       "      <td>115.983500</td>\n",
       "      <td>0.334433</td>\n",
       "      <td>38.000000</td>\n",
       "      <td>5</td>\n",
       "      <td>1</td>\n",
       "      <td>12</td>\n",
       "      <td>['show tunes']</td>\n",
       "    </tr>\n",
       "    <tr>\n",
       "      <th>1</th>\n",
       "      <td>\"Cats\" 1983 Broadway Cast</td>\n",
       "      <td>0.862538</td>\n",
       "      <td>0.441731</td>\n",
       "      <td>287280.000000</td>\n",
       "      <td>0.406808</td>\n",
       "      <td>0.081158</td>\n",
       "      <td>0.315215</td>\n",
       "      <td>-10.690000</td>\n",
       "      <td>0.176212</td>\n",
       "      <td>103.044154</td>\n",
       "      <td>0.268865</td>\n",
       "      <td>33.076923</td>\n",
       "      <td>5</td>\n",
       "      <td>1</td>\n",
       "      <td>26</td>\n",
       "      <td>[]</td>\n",
       "    </tr>\n",
       "    <tr>\n",
       "      <th>2</th>\n",
       "      <td>\"Fiddler On The Roof” Motion Picture Chorus</td>\n",
       "      <td>0.856571</td>\n",
       "      <td>0.348286</td>\n",
       "      <td>328920.000000</td>\n",
       "      <td>0.286571</td>\n",
       "      <td>0.024593</td>\n",
       "      <td>0.325786</td>\n",
       "      <td>-15.230714</td>\n",
       "      <td>0.118514</td>\n",
       "      <td>77.375857</td>\n",
       "      <td>0.354857</td>\n",
       "      <td>34.285714</td>\n",
       "      <td>0</td>\n",
       "      <td>1</td>\n",
       "      <td>7</td>\n",
       "      <td>[]</td>\n",
       "    </tr>\n",
       "    <tr>\n",
       "      <th>3</th>\n",
       "      <td>\"Fiddler On The Roof” Motion Picture Orchestra</td>\n",
       "      <td>0.884926</td>\n",
       "      <td>0.425074</td>\n",
       "      <td>262890.962963</td>\n",
       "      <td>0.245770</td>\n",
       "      <td>0.073587</td>\n",
       "      <td>0.275481</td>\n",
       "      <td>-15.639370</td>\n",
       "      <td>0.123200</td>\n",
       "      <td>88.667630</td>\n",
       "      <td>0.372030</td>\n",
       "      <td>34.444444</td>\n",
       "      <td>0</td>\n",
       "      <td>1</td>\n",
       "      <td>27</td>\n",
       "      <td>[]</td>\n",
       "    </tr>\n",
       "    <tr>\n",
       "      <th>4</th>\n",
       "      <td>\"Joseph And The Amazing Technicolor Dreamcoat\"...</td>\n",
       "      <td>0.605444</td>\n",
       "      <td>0.437333</td>\n",
       "      <td>232428.111111</td>\n",
       "      <td>0.429333</td>\n",
       "      <td>0.037534</td>\n",
       "      <td>0.216111</td>\n",
       "      <td>-11.447222</td>\n",
       "      <td>0.086000</td>\n",
       "      <td>120.329667</td>\n",
       "      <td>0.458667</td>\n",
       "      <td>42.555556</td>\n",
       "      <td>11</td>\n",
       "      <td>1</td>\n",
       "      <td>9</td>\n",
       "      <td>[]</td>\n",
       "    </tr>\n",
       "  </tbody>\n",
       "</table>\n",
       "</div>"
      ],
      "text/plain": [
       "                                             artists  acousticness  \\\n",
       "0                   \"Cats\" 1981 Original London Cast      0.575083   \n",
       "1                          \"Cats\" 1983 Broadway Cast      0.862538   \n",
       "2        \"Fiddler On The Roof” Motion Picture Chorus      0.856571   \n",
       "3     \"Fiddler On The Roof” Motion Picture Orchestra      0.884926   \n",
       "4  \"Joseph And The Amazing Technicolor Dreamcoat\"...      0.605444   \n",
       "\n",
       "   danceability    duration_ms    energy  instrumentalness  liveness  \\\n",
       "0      0.442750  247260.000000  0.386336          0.022717  0.287708   \n",
       "1      0.441731  287280.000000  0.406808          0.081158  0.315215   \n",
       "2      0.348286  328920.000000  0.286571          0.024593  0.325786   \n",
       "3      0.425074  262890.962963  0.245770          0.073587  0.275481   \n",
       "4      0.437333  232428.111111  0.429333          0.037534  0.216111   \n",
       "\n",
       "    loudness  speechiness       tempo   valence  popularity  key  mode  count  \\\n",
       "0 -14.205417     0.180675  115.983500  0.334433   38.000000    5     1     12   \n",
       "1 -10.690000     0.176212  103.044154  0.268865   33.076923    5     1     26   \n",
       "2 -15.230714     0.118514   77.375857  0.354857   34.285714    0     1      7   \n",
       "3 -15.639370     0.123200   88.667630  0.372030   34.444444    0     1     27   \n",
       "4 -11.447222     0.086000  120.329667  0.458667   42.555556   11     1      9   \n",
       "\n",
       "           genres  \n",
       "0  ['show tunes']  \n",
       "1              []  \n",
       "2              []  \n",
       "3              []  \n",
       "4              []  "
      ]
     },
     "execution_count": 82,
     "metadata": {},
     "output_type": "execute_result"
    }
   ],
   "source": [
    "df_w_genre.head()"
   ]
  },
  {
   "cell_type": "markdown",
   "metadata": {},
   "source": [
    "**Eliminación de columnas y datos nulos**\n",
    "\n",
    "Ahora procederemos a eliminar las columnas no deseadas y mostraremos cómo quedan las nuevas tablas sin las columnas no deseadas. En este punto también eliminaremos los datos nulos que no nos sirven.\n",
    "\n",
    "[Cómo eliminar varias columnas de una tabla a la vez](https://cmdlinetips.com/2020/05/drop-multiple-columns-in-pandas-dataframe/)\n",
    "\n",
    "[Cómo crear una nueva tabla sin los valores nulos](https://chrisalbon.com/python/data_wrangling/pandas_dropping_column_and_rows/)\n",
    "\n",
    "**Tabla canciones**"
   ]
  },
  {
   "cell_type": "code",
   "execution_count": 98,
   "metadata": {},
   "outputs": [
    {
     "data": {
      "text/html": [
       "<div>\n",
       "<style scoped>\n",
       "    .dataframe tbody tr th:only-of-type {\n",
       "        vertical-align: middle;\n",
       "    }\n",
       "\n",
       "    .dataframe tbody tr th {\n",
       "        vertical-align: top;\n",
       "    }\n",
       "\n",
       "    .dataframe thead th {\n",
       "        text-align: right;\n",
       "    }\n",
       "</style>\n",
       "<table border=\"1\" class=\"dataframe\">\n",
       "  <thead>\n",
       "    <tr style=\"text-align: right;\">\n",
       "      <th></th>\n",
       "      <th>artists</th>\n",
       "      <th>danceability</th>\n",
       "      <th>duration_ms</th>\n",
       "      <th>explicit</th>\n",
       "      <th>id</th>\n",
       "      <th>name</th>\n",
       "      <th>popularity</th>\n",
       "      <th>release_date</th>\n",
       "      <th>year</th>\n",
       "    </tr>\n",
       "  </thead>\n",
       "  <tbody>\n",
       "    <tr>\n",
       "      <th>0</th>\n",
       "      <td>['Carl Woitschach']</td>\n",
       "      <td>0.708</td>\n",
       "      <td>158648</td>\n",
       "      <td>0</td>\n",
       "      <td>6KbQ3uYMLKb5jDxLF7wYDD</td>\n",
       "      <td>Singende Bataillone 1. Teil</td>\n",
       "      <td>0</td>\n",
       "      <td>1928</td>\n",
       "      <td>1928</td>\n",
       "    </tr>\n",
       "    <tr>\n",
       "      <th>1</th>\n",
       "      <td>['Robert Schumann', 'Vladimir Horowitz']</td>\n",
       "      <td>0.379</td>\n",
       "      <td>282133</td>\n",
       "      <td>0</td>\n",
       "      <td>6KuQTIu1KoTTkLXKrwlLPV</td>\n",
       "      <td>Fantasiestücke, Op. 111: Più tosto lento</td>\n",
       "      <td>0</td>\n",
       "      <td>1928</td>\n",
       "      <td>1928</td>\n",
       "    </tr>\n",
       "    <tr>\n",
       "      <th>2</th>\n",
       "      <td>['Seweryn Goszczyński']</td>\n",
       "      <td>0.749</td>\n",
       "      <td>104300</td>\n",
       "      <td>0</td>\n",
       "      <td>6L63VW0PibdM1HDSBoqnoM</td>\n",
       "      <td>Chapter 1.18 - Zamek kaniowski</td>\n",
       "      <td>0</td>\n",
       "      <td>1928</td>\n",
       "      <td>1928</td>\n",
       "    </tr>\n",
       "    <tr>\n",
       "      <th>3</th>\n",
       "      <td>['Francisco Canaro']</td>\n",
       "      <td>0.781</td>\n",
       "      <td>180760</td>\n",
       "      <td>0</td>\n",
       "      <td>6M94FkXd15sOAOQYRnWPN8</td>\n",
       "      <td>Bebamos Juntos - Instrumental (Remasterizado)</td>\n",
       "      <td>0</td>\n",
       "      <td>1928-09-25</td>\n",
       "      <td>1928</td>\n",
       "    </tr>\n",
       "    <tr>\n",
       "      <th>4</th>\n",
       "      <td>['Frédéric Chopin', 'Vladimir Horowitz']</td>\n",
       "      <td>0.210</td>\n",
       "      <td>687733</td>\n",
       "      <td>0</td>\n",
       "      <td>6N6tiFZ9vLTSOIxkj8qKrd</td>\n",
       "      <td>Polonaise-Fantaisie in A-Flat Major, Op. 61</td>\n",
       "      <td>1</td>\n",
       "      <td>1928</td>\n",
       "      <td>1928</td>\n",
       "    </tr>\n",
       "    <tr>\n",
       "      <th>...</th>\n",
       "      <td>...</td>\n",
       "      <td>...</td>\n",
       "      <td>...</td>\n",
       "      <td>...</td>\n",
       "      <td>...</td>\n",
       "      <td>...</td>\n",
       "      <td>...</td>\n",
       "      <td>...</td>\n",
       "      <td>...</td>\n",
       "    </tr>\n",
       "    <tr>\n",
       "      <th>169904</th>\n",
       "      <td>['DripReport', 'Tyga']</td>\n",
       "      <td>0.875</td>\n",
       "      <td>163800</td>\n",
       "      <td>1</td>\n",
       "      <td>4KppkflX7I3vJQk7urOJaS</td>\n",
       "      <td>Skechers (feat. Tyga) - Remix</td>\n",
       "      <td>75</td>\n",
       "      <td>2020-05-15</td>\n",
       "      <td>2020</td>\n",
       "    </tr>\n",
       "    <tr>\n",
       "      <th>169905</th>\n",
       "      <td>['Leon Bridges', 'Terrace Martin']</td>\n",
       "      <td>0.719</td>\n",
       "      <td>167468</td>\n",
       "      <td>0</td>\n",
       "      <td>1ehhGlTvjtHo2e4xJFB0SZ</td>\n",
       "      <td>Sweeter (feat. Terrace Martin)</td>\n",
       "      <td>64</td>\n",
       "      <td>2020-06-08</td>\n",
       "      <td>2020</td>\n",
       "    </tr>\n",
       "    <tr>\n",
       "      <th>169906</th>\n",
       "      <td>['Kygo', 'Oh Wonder']</td>\n",
       "      <td>0.514</td>\n",
       "      <td>180700</td>\n",
       "      <td>0</td>\n",
       "      <td>52eycxprLhK3lPcRLbQiVk</td>\n",
       "      <td>How Would I Know</td>\n",
       "      <td>70</td>\n",
       "      <td>2020-05-29</td>\n",
       "      <td>2020</td>\n",
       "    </tr>\n",
       "    <tr>\n",
       "      <th>169907</th>\n",
       "      <td>['Cash Cash', 'Andy Grammer']</td>\n",
       "      <td>0.646</td>\n",
       "      <td>167308</td>\n",
       "      <td>0</td>\n",
       "      <td>3wYOGJYD31sLRmBgCvWxa4</td>\n",
       "      <td>I Found You</td>\n",
       "      <td>70</td>\n",
       "      <td>2020-02-28</td>\n",
       "      <td>2020</td>\n",
       "    </tr>\n",
       "    <tr>\n",
       "      <th>169908</th>\n",
       "      <td>['Ingrid Andress']</td>\n",
       "      <td>0.512</td>\n",
       "      <td>214787</td>\n",
       "      <td>0</td>\n",
       "      <td>60RFlt48hm0l4Fu0JoccOl</td>\n",
       "      <td>More Hearts Than Mine</td>\n",
       "      <td>65</td>\n",
       "      <td>2020-03-27</td>\n",
       "      <td>2020</td>\n",
       "    </tr>\n",
       "  </tbody>\n",
       "</table>\n",
       "<p>169909 rows × 9 columns</p>\n",
       "</div>"
      ],
      "text/plain": [
       "                                         artists  danceability  duration_ms  \\\n",
       "0                            ['Carl Woitschach']         0.708       158648   \n",
       "1       ['Robert Schumann', 'Vladimir Horowitz']         0.379       282133   \n",
       "2                        ['Seweryn Goszczyński']         0.749       104300   \n",
       "3                           ['Francisco Canaro']         0.781       180760   \n",
       "4       ['Frédéric Chopin', 'Vladimir Horowitz']         0.210       687733   \n",
       "...                                          ...           ...          ...   \n",
       "169904                    ['DripReport', 'Tyga']         0.875       163800   \n",
       "169905        ['Leon Bridges', 'Terrace Martin']         0.719       167468   \n",
       "169906                     ['Kygo', 'Oh Wonder']         0.514       180700   \n",
       "169907             ['Cash Cash', 'Andy Grammer']         0.646       167308   \n",
       "169908                        ['Ingrid Andress']         0.512       214787   \n",
       "\n",
       "        explicit                      id  \\\n",
       "0              0  6KbQ3uYMLKb5jDxLF7wYDD   \n",
       "1              0  6KuQTIu1KoTTkLXKrwlLPV   \n",
       "2              0  6L63VW0PibdM1HDSBoqnoM   \n",
       "3              0  6M94FkXd15sOAOQYRnWPN8   \n",
       "4              0  6N6tiFZ9vLTSOIxkj8qKrd   \n",
       "...          ...                     ...   \n",
       "169904         1  4KppkflX7I3vJQk7urOJaS   \n",
       "169905         0  1ehhGlTvjtHo2e4xJFB0SZ   \n",
       "169906         0  52eycxprLhK3lPcRLbQiVk   \n",
       "169907         0  3wYOGJYD31sLRmBgCvWxa4   \n",
       "169908         0  60RFlt48hm0l4Fu0JoccOl   \n",
       "\n",
       "                                                 name  popularity  \\\n",
       "0                         Singende Bataillone 1. Teil           0   \n",
       "1            Fantasiestücke, Op. 111: Più tosto lento           0   \n",
       "2                      Chapter 1.18 - Zamek kaniowski           0   \n",
       "3       Bebamos Juntos - Instrumental (Remasterizado)           0   \n",
       "4         Polonaise-Fantaisie in A-Flat Major, Op. 61           1   \n",
       "...                                               ...         ...   \n",
       "169904                  Skechers (feat. Tyga) - Remix          75   \n",
       "169905                 Sweeter (feat. Terrace Martin)          64   \n",
       "169906                               How Would I Know          70   \n",
       "169907                                    I Found You          70   \n",
       "169908                          More Hearts Than Mine          65   \n",
       "\n",
       "       release_date  year  \n",
       "0              1928  1928  \n",
       "1              1928  1928  \n",
       "2              1928  1928  \n",
       "3        1928-09-25  1928  \n",
       "4              1928  1928  \n",
       "...             ...   ...  \n",
       "169904   2020-05-15  2020  \n",
       "169905   2020-06-08  2020  \n",
       "169906   2020-05-29  2020  \n",
       "169907   2020-02-28  2020  \n",
       "169908   2020-03-27  2020  \n",
       "\n",
       "[169909 rows x 9 columns]"
      ]
     },
     "execution_count": 98,
     "metadata": {},
     "output_type": "execute_result"
    }
   ],
   "source": [
    "#Vamos a eliminar las columnas que vemos dentro de la lista siguiente \n",
    "#y la nueva tabla sin estas columnas la guardamos en una variable nueva\n",
    "#Se decide eliminar estas columnas ya que no tienen importancia para alcanzar nuestros objetivos\n",
    "#solo nos interesa la columna artistas, bailabilidad, duración en ms, contenido explicito, id,\n",
    "#nombre, popularidad, año de lanzamiento y año\n",
    "new_df = df.drop(['acousticness', 'instrumentalness', 'key', 'liveness', \n",
    "                  'loudness', 'speechiness', 'tempo', 'valence', 'energy', 'mode'], axis=1)\n",
    "new_df"
   ]
  },
  {
   "cell_type": "code",
   "execution_count": null,
   "metadata": {},
   "outputs": [],
   "source": []
  },
  {
   "cell_type": "markdown",
   "metadata": {},
   "source": [
    "**Tabla clasificada por artistas**"
   ]
  },
  {
   "cell_type": "code",
   "execution_count": 84,
   "metadata": {},
   "outputs": [
    {
     "data": {
      "text/html": [
       "<div>\n",
       "<style scoped>\n",
       "    .dataframe tbody tr th:only-of-type {\n",
       "        vertical-align: middle;\n",
       "    }\n",
       "\n",
       "    .dataframe tbody tr th {\n",
       "        vertical-align: top;\n",
       "    }\n",
       "\n",
       "    .dataframe thead th {\n",
       "        text-align: right;\n",
       "    }\n",
       "</style>\n",
       "<table border=\"1\" class=\"dataframe\">\n",
       "  <thead>\n",
       "    <tr style=\"text-align: right;\">\n",
       "      <th></th>\n",
       "      <th>artists</th>\n",
       "      <th>danceability</th>\n",
       "      <th>duration_ms</th>\n",
       "      <th>popularity</th>\n",
       "      <th>count</th>\n",
       "    </tr>\n",
       "  </thead>\n",
       "  <tbody>\n",
       "    <tr>\n",
       "      <th>0</th>\n",
       "      <td>\"Cats\" 1981 Original London Cast</td>\n",
       "      <td>0.442750</td>\n",
       "      <td>247260.000000</td>\n",
       "      <td>38.000000</td>\n",
       "      <td>12</td>\n",
       "    </tr>\n",
       "    <tr>\n",
       "      <th>1</th>\n",
       "      <td>\"Cats\" 1983 Broadway Cast</td>\n",
       "      <td>0.441731</td>\n",
       "      <td>287280.000000</td>\n",
       "      <td>33.076923</td>\n",
       "      <td>26</td>\n",
       "    </tr>\n",
       "    <tr>\n",
       "      <th>2</th>\n",
       "      <td>\"Fiddler On The Roof” Motion Picture Chorus</td>\n",
       "      <td>0.348286</td>\n",
       "      <td>328920.000000</td>\n",
       "      <td>34.285714</td>\n",
       "      <td>7</td>\n",
       "    </tr>\n",
       "    <tr>\n",
       "      <th>3</th>\n",
       "      <td>\"Fiddler On The Roof” Motion Picture Orchestra</td>\n",
       "      <td>0.425074</td>\n",
       "      <td>262890.962963</td>\n",
       "      <td>34.444444</td>\n",
       "      <td>27</td>\n",
       "    </tr>\n",
       "    <tr>\n",
       "      <th>4</th>\n",
       "      <td>\"Joseph And The Amazing Technicolor Dreamcoat\"...</td>\n",
       "      <td>0.437333</td>\n",
       "      <td>232428.111111</td>\n",
       "      <td>42.555556</td>\n",
       "      <td>9</td>\n",
       "    </tr>\n",
       "    <tr>\n",
       "      <th>...</th>\n",
       "      <td>...</td>\n",
       "      <td>...</td>\n",
       "      <td>...</td>\n",
       "      <td>...</td>\n",
       "      <td>...</td>\n",
       "    </tr>\n",
       "    <tr>\n",
       "      <th>27616</th>\n",
       "      <td>鳳飛飛</td>\n",
       "      <td>0.358000</td>\n",
       "      <td>259387.000000</td>\n",
       "      <td>35.000000</td>\n",
       "      <td>2</td>\n",
       "    </tr>\n",
       "    <tr>\n",
       "      <th>27617</th>\n",
       "      <td>黃品源</td>\n",
       "      <td>0.578000</td>\n",
       "      <td>293840.000000</td>\n",
       "      <td>47.000000</td>\n",
       "      <td>2</td>\n",
       "    </tr>\n",
       "    <tr>\n",
       "      <th>27618</th>\n",
       "      <td>黃國隆</td>\n",
       "      <td>0.570818</td>\n",
       "      <td>174582.727273</td>\n",
       "      <td>20.000000</td>\n",
       "      <td>11</td>\n",
       "    </tr>\n",
       "    <tr>\n",
       "      <th>27619</th>\n",
       "      <td>黃蜀娟</td>\n",
       "      <td>0.322262</td>\n",
       "      <td>212989.857143</td>\n",
       "      <td>23.000000</td>\n",
       "      <td>42</td>\n",
       "    </tr>\n",
       "    <tr>\n",
       "      <th>27620</th>\n",
       "      <td>黑豹</td>\n",
       "      <td>0.353000</td>\n",
       "      <td>316160.000000</td>\n",
       "      <td>34.000000</td>\n",
       "      <td>2</td>\n",
       "    </tr>\n",
       "  </tbody>\n",
       "</table>\n",
       "<p>27621 rows × 5 columns</p>\n",
       "</div>"
      ],
      "text/plain": [
       "                                                 artists  danceability  \\\n",
       "0                       \"Cats\" 1981 Original London Cast      0.442750   \n",
       "1                              \"Cats\" 1983 Broadway Cast      0.441731   \n",
       "2            \"Fiddler On The Roof” Motion Picture Chorus      0.348286   \n",
       "3         \"Fiddler On The Roof” Motion Picture Orchestra      0.425074   \n",
       "4      \"Joseph And The Amazing Technicolor Dreamcoat\"...      0.437333   \n",
       "...                                                  ...           ...   \n",
       "27616                                                鳳飛飛      0.358000   \n",
       "27617                                                黃品源      0.578000   \n",
       "27618                                                黃國隆      0.570818   \n",
       "27619                                                黃蜀娟      0.322262   \n",
       "27620                                                 黑豹      0.353000   \n",
       "\n",
       "         duration_ms  popularity  count  \n",
       "0      247260.000000   38.000000     12  \n",
       "1      287280.000000   33.076923     26  \n",
       "2      328920.000000   34.285714      7  \n",
       "3      262890.962963   34.444444     27  \n",
       "4      232428.111111   42.555556      9  \n",
       "...              ...         ...    ...  \n",
       "27616  259387.000000   35.000000      2  \n",
       "27617  293840.000000   47.000000      2  \n",
       "27618  174582.727273   20.000000     11  \n",
       "27619  212989.857143   23.000000     42  \n",
       "27620  316160.000000   34.000000      2  \n",
       "\n",
       "[27621 rows x 5 columns]"
      ]
     },
     "execution_count": 84,
     "metadata": {},
     "output_type": "execute_result"
    }
   ],
   "source": [
    "#Hacemos exactamente lo mismo que el código anterior pero para esta tabla y \n",
    "#lo mismo para las tablas restantes\n",
    "#Se decide eliminar estas columnas ya que no tienen importancia para alcanzar nuestros objetivos\n",
    "#solo nos interesa la columna artistas, bailabilidad, duración en ms, popularidad y el conteo\n",
    "#de cuantas veces está presente ese artista en la tabla\n",
    "new_df_artist = df_artist.drop(['acousticness', 'instrumentalness', 'liveness', \n",
    "                                'loudness', 'speechiness', 'tempo', 'valence', 'energy', \n",
    "                                'mode', 'key'], axis=1)\n",
    "new_df_artist"
   ]
  },
  {
   "cell_type": "markdown",
   "metadata": {},
   "source": [
    "**Tabla clasificada por género**\n",
    "\n",
    "Aquí además de eliminar columnas eliminaremos los valores nulos.\n",
    "\n",
    "Eliminamos las filas que tienen valores nulo en la columna **genres**. Si tenemos un género nulo, no nos sirve ya que no podemos trabajar con el, analizarlo o sacar conclusiones.  "
   ]
  },
  {
   "cell_type": "code",
   "execution_count": 85,
   "metadata": {},
   "outputs": [
    {
     "data": {
      "text/html": [
       "<div>\n",
       "<style scoped>\n",
       "    .dataframe tbody tr th:only-of-type {\n",
       "        vertical-align: middle;\n",
       "    }\n",
       "\n",
       "    .dataframe tbody tr th {\n",
       "        vertical-align: top;\n",
       "    }\n",
       "\n",
       "    .dataframe thead th {\n",
       "        text-align: right;\n",
       "    }\n",
       "</style>\n",
       "<table border=\"1\" class=\"dataframe\">\n",
       "  <thead>\n",
       "    <tr style=\"text-align: right;\">\n",
       "      <th></th>\n",
       "      <th>genres</th>\n",
       "      <th>danceability</th>\n",
       "      <th>duration_ms</th>\n",
       "      <th>popularity</th>\n",
       "    </tr>\n",
       "  </thead>\n",
       "  <tbody>\n",
       "    <tr>\n",
       "      <th>0</th>\n",
       "      <td>432hz</td>\n",
       "      <td>0.299333</td>\n",
       "      <td>1.048887e+06</td>\n",
       "      <td>52.166667</td>\n",
       "    </tr>\n",
       "    <tr>\n",
       "      <th>2</th>\n",
       "      <td>a cappella</td>\n",
       "      <td>0.577017</td>\n",
       "      <td>1.936522e+05</td>\n",
       "      <td>43.351819</td>\n",
       "    </tr>\n",
       "    <tr>\n",
       "      <th>3</th>\n",
       "      <td>abstract</td>\n",
       "      <td>0.459500</td>\n",
       "      <td>3.430185e+05</td>\n",
       "      <td>41.500000</td>\n",
       "    </tr>\n",
       "    <tr>\n",
       "      <th>4</th>\n",
       "      <td>abstract beats</td>\n",
       "      <td>0.694400</td>\n",
       "      <td>2.338244e+05</td>\n",
       "      <td>58.600000</td>\n",
       "    </tr>\n",
       "    <tr>\n",
       "      <th>5</th>\n",
       "      <td>abstract hip hop</td>\n",
       "      <td>0.723132</td>\n",
       "      <td>2.490951e+05</td>\n",
       "      <td>43.804971</td>\n",
       "    </tr>\n",
       "    <tr>\n",
       "      <th>...</th>\n",
       "      <td>...</td>\n",
       "      <td>...</td>\n",
       "      <td>...</td>\n",
       "      <td>...</td>\n",
       "    </tr>\n",
       "    <tr>\n",
       "      <th>2659</th>\n",
       "      <td>zolo</td>\n",
       "      <td>0.560365</td>\n",
       "      <td>2.675453e+05</td>\n",
       "      <td>33.760410</td>\n",
       "    </tr>\n",
       "    <tr>\n",
       "      <th>2660</th>\n",
       "      <td>zouglou</td>\n",
       "      <td>0.834000</td>\n",
       "      <td>2.951470e+05</td>\n",
       "      <td>56.000000</td>\n",
       "    </tr>\n",
       "    <tr>\n",
       "      <th>2661</th>\n",
       "      <td>zouk</td>\n",
       "      <td>0.752762</td>\n",
       "      <td>2.951100e+05</td>\n",
       "      <td>42.476190</td>\n",
       "    </tr>\n",
       "    <tr>\n",
       "      <th>2662</th>\n",
       "      <td>zouk riddim</td>\n",
       "      <td>0.776000</td>\n",
       "      <td>2.293330e+05</td>\n",
       "      <td>24.000000</td>\n",
       "    </tr>\n",
       "    <tr>\n",
       "      <th>2663</th>\n",
       "      <td>zydeco</td>\n",
       "      <td>0.596992</td>\n",
       "      <td>1.788379e+05</td>\n",
       "      <td>29.840152</td>\n",
       "    </tr>\n",
       "  </tbody>\n",
       "</table>\n",
       "<p>2663 rows × 4 columns</p>\n",
       "</div>"
      ],
      "text/plain": [
       "                genres  danceability   duration_ms  popularity\n",
       "0                432hz      0.299333  1.048887e+06   52.166667\n",
       "2           a cappella      0.577017  1.936522e+05   43.351819\n",
       "3             abstract      0.459500  3.430185e+05   41.500000\n",
       "4       abstract beats      0.694400  2.338244e+05   58.600000\n",
       "5     abstract hip hop      0.723132  2.490951e+05   43.804971\n",
       "...                ...           ...           ...         ...\n",
       "2659              zolo      0.560365  2.675453e+05   33.760410\n",
       "2660           zouglou      0.834000  2.951470e+05   56.000000\n",
       "2661              zouk      0.752762  2.951100e+05   42.476190\n",
       "2662       zouk riddim      0.776000  2.293330e+05   24.000000\n",
       "2663            zydeco      0.596992  1.788379e+05   29.840152\n",
       "\n",
       "[2663 rows x 4 columns]"
      ]
     },
     "execution_count": 85,
     "metadata": {},
     "output_type": "execute_result"
    }
   ],
   "source": [
    "#Creamos una nueva tabla que contenga solamente géneros no nulos \n",
    "#y la guardamos en la variable no_null_genre\n",
    "no_null_genre = df_genre[df_genre.genres != \"[]\"]\n",
    "no_null_genre\n",
    "#Ahora que tenemos esta nueva tabla sin valores nulos, procedemos a \n",
    "#eliminar las columnas no deseadas y guardamos esta nueva tabla en new_df_genre\n",
    "#Se decide eliminar estas columnas ya que no tienen importancia para alcanzar nuestros objetivos\n",
    "#solo nos interesa la columna géneros, bailabilidad, duración en ms y popularidad\n",
    "new_df_genre = no_null_genre.drop(['acousticness', 'instrumentalness', 'liveness', \n",
    "                              'loudness', 'speechiness', 'tempo', 'valence', 'energy', \n",
    "                              'mode', 'key'], axis=1)\n",
    "new_df_genre"
   ]
  },
  {
   "cell_type": "markdown",
   "metadata": {},
   "source": [
    "**Tabla clasificada por años**"
   ]
  },
  {
   "cell_type": "code",
   "execution_count": 86,
   "metadata": {},
   "outputs": [
    {
     "data": {
      "text/html": [
       "<div>\n",
       "<style scoped>\n",
       "    .dataframe tbody tr th:only-of-type {\n",
       "        vertical-align: middle;\n",
       "    }\n",
       "\n",
       "    .dataframe tbody tr th {\n",
       "        vertical-align: top;\n",
       "    }\n",
       "\n",
       "    .dataframe thead th {\n",
       "        text-align: right;\n",
       "    }\n",
       "</style>\n",
       "<table border=\"1\" class=\"dataframe\">\n",
       "  <thead>\n",
       "    <tr style=\"text-align: right;\">\n",
       "      <th></th>\n",
       "      <th>year</th>\n",
       "      <th>danceability</th>\n",
       "      <th>duration_ms</th>\n",
       "      <th>popularity</th>\n",
       "    </tr>\n",
       "  </thead>\n",
       "  <tbody>\n",
       "    <tr>\n",
       "      <th>0</th>\n",
       "      <td>1921</td>\n",
       "      <td>0.425661</td>\n",
       "      <td>229911.914062</td>\n",
       "      <td>0.351562</td>\n",
       "    </tr>\n",
       "    <tr>\n",
       "      <th>1</th>\n",
       "      <td>1922</td>\n",
       "      <td>0.480000</td>\n",
       "      <td>167904.541667</td>\n",
       "      <td>0.138889</td>\n",
       "    </tr>\n",
       "    <tr>\n",
       "      <th>2</th>\n",
       "      <td>1923</td>\n",
       "      <td>0.568462</td>\n",
       "      <td>178356.301775</td>\n",
       "      <td>5.727811</td>\n",
       "    </tr>\n",
       "    <tr>\n",
       "      <th>3</th>\n",
       "      <td>1924</td>\n",
       "      <td>0.548654</td>\n",
       "      <td>188461.649789</td>\n",
       "      <td>0.603376</td>\n",
       "    </tr>\n",
       "    <tr>\n",
       "      <th>4</th>\n",
       "      <td>1925</td>\n",
       "      <td>0.571890</td>\n",
       "      <td>184130.699620</td>\n",
       "      <td>2.707224</td>\n",
       "    </tr>\n",
       "    <tr>\n",
       "      <th>...</th>\n",
       "      <td>...</td>\n",
       "      <td>...</td>\n",
       "      <td>...</td>\n",
       "      <td>...</td>\n",
       "    </tr>\n",
       "    <tr>\n",
       "      <th>95</th>\n",
       "      <td>2016</td>\n",
       "      <td>0.599976</td>\n",
       "      <td>219400.763840</td>\n",
       "      <td>61.371254</td>\n",
       "    </tr>\n",
       "    <tr>\n",
       "      <th>96</th>\n",
       "      <td>2017</td>\n",
       "      <td>0.612286</td>\n",
       "      <td>209343.613000</td>\n",
       "      <td>64.861500</td>\n",
       "    </tr>\n",
       "    <tr>\n",
       "      <th>97</th>\n",
       "      <td>2018</td>\n",
       "      <td>0.664930</td>\n",
       "      <td>200919.119000</td>\n",
       "      <td>67.276000</td>\n",
       "    </tr>\n",
       "    <tr>\n",
       "      <th>98</th>\n",
       "      <td>2019</td>\n",
       "      <td>0.644215</td>\n",
       "      <td>197733.133000</td>\n",
       "      <td>69.655500</td>\n",
       "    </tr>\n",
       "    <tr>\n",
       "      <th>99</th>\n",
       "      <td>2020</td>\n",
       "      <td>0.673077</td>\n",
       "      <td>197114.662301</td>\n",
       "      <td>63.111048</td>\n",
       "    </tr>\n",
       "  </tbody>\n",
       "</table>\n",
       "<p>100 rows × 4 columns</p>\n",
       "</div>"
      ],
      "text/plain": [
       "    year  danceability    duration_ms  popularity\n",
       "0   1921      0.425661  229911.914062    0.351562\n",
       "1   1922      0.480000  167904.541667    0.138889\n",
       "2   1923      0.568462  178356.301775    5.727811\n",
       "3   1924      0.548654  188461.649789    0.603376\n",
       "4   1925      0.571890  184130.699620    2.707224\n",
       "..   ...           ...            ...         ...\n",
       "95  2016      0.599976  219400.763840   61.371254\n",
       "96  2017      0.612286  209343.613000   64.861500\n",
       "97  2018      0.664930  200919.119000   67.276000\n",
       "98  2019      0.644215  197733.133000   69.655500\n",
       "99  2020      0.673077  197114.662301   63.111048\n",
       "\n",
       "[100 rows x 4 columns]"
      ]
     },
     "execution_count": 86,
     "metadata": {},
     "output_type": "execute_result"
    }
   ],
   "source": [
    "#Se decide eliminar estas columnas ya que no tienen importancia para alcanzar nuestros objetivos,\n",
    "#solo nos interesa la columna año, bailabilidad, duracion en ms y popularidad.\n",
    "new_df_year = df_year.drop(['acousticness', 'instrumentalness', 'liveness', \n",
    "                            'loudness', 'speechiness', 'tempo', 'valence', 'energy', \n",
    "                            'mode', 'key'], axis=1)\n",
    "new_df_year"
   ]
  },
  {
   "cell_type": "markdown",
   "metadata": {},
   "source": [
    "**Tabla clasificada por artistas con géneros**\n",
    "\n",
    "Aquí además de eliminar columnas eliminaremos los valores nulos.\n",
    "\n",
    "Eliminamos las filas que tienen valores nulo en la columna **genres**. Si tenemos un género nulo, no nos sirve ya que no podemos trabajar con el, analizarlo o sacar conclusiones. El mismo caso que en la tabla clasificada por géneros."
   ]
  },
  {
   "cell_type": "code",
   "execution_count": 87,
   "metadata": {},
   "outputs": [
    {
     "data": {
      "text/html": [
       "<div>\n",
       "<style scoped>\n",
       "    .dataframe tbody tr th:only-of-type {\n",
       "        vertical-align: middle;\n",
       "    }\n",
       "\n",
       "    .dataframe tbody tr th {\n",
       "        vertical-align: top;\n",
       "    }\n",
       "\n",
       "    .dataframe thead th {\n",
       "        text-align: right;\n",
       "    }\n",
       "</style>\n",
       "<table border=\"1\" class=\"dataframe\">\n",
       "  <thead>\n",
       "    <tr style=\"text-align: right;\">\n",
       "      <th></th>\n",
       "      <th>artists</th>\n",
       "      <th>danceability</th>\n",
       "      <th>duration_ms</th>\n",
       "      <th>popularity</th>\n",
       "      <th>count</th>\n",
       "      <th>genres</th>\n",
       "    </tr>\n",
       "  </thead>\n",
       "  <tbody>\n",
       "    <tr>\n",
       "      <th>0</th>\n",
       "      <td>\"Cats\" 1981 Original London Cast</td>\n",
       "      <td>0.442750</td>\n",
       "      <td>247260.000000</td>\n",
       "      <td>38.000000</td>\n",
       "      <td>12</td>\n",
       "      <td>['show tunes']</td>\n",
       "    </tr>\n",
       "    <tr>\n",
       "      <th>9</th>\n",
       "      <td>\"Weird Al\" Yankovic</td>\n",
       "      <td>0.664788</td>\n",
       "      <td>218165.257576</td>\n",
       "      <td>33.681818</td>\n",
       "      <td>132</td>\n",
       "      <td>['antiviral pop', 'comedy rock', 'comic', 'par...</td>\n",
       "    </tr>\n",
       "    <tr>\n",
       "      <th>11</th>\n",
       "      <td>$NOT</td>\n",
       "      <td>0.750125</td>\n",
       "      <td>152929.500000</td>\n",
       "      <td>64.625000</td>\n",
       "      <td>8</td>\n",
       "      <td>['east coast hip hop', 'gangster rap', 'hardco...</td>\n",
       "    </tr>\n",
       "    <tr>\n",
       "      <th>13</th>\n",
       "      <td>$uicideBoy$</td>\n",
       "      <td>0.765246</td>\n",
       "      <td>147549.442623</td>\n",
       "      <td>61.647541</td>\n",
       "      <td>122</td>\n",
       "      <td>['dark trap', 'new orleans rap', 'underground ...</td>\n",
       "    </tr>\n",
       "    <tr>\n",
       "      <th>15</th>\n",
       "      <td>'In The Heights' Original Broadway Company</td>\n",
       "      <td>0.541000</td>\n",
       "      <td>301908.294118</td>\n",
       "      <td>46.588235</td>\n",
       "      <td>17</td>\n",
       "      <td>['broadway', 'show tunes']</td>\n",
       "    </tr>\n",
       "    <tr>\n",
       "      <th>...</th>\n",
       "      <td>...</td>\n",
       "      <td>...</td>\n",
       "      <td>...</td>\n",
       "      <td>...</td>\n",
       "      <td>...</td>\n",
       "      <td>...</td>\n",
       "    </tr>\n",
       "    <tr>\n",
       "      <th>27611</th>\n",
       "      <td>陳秀男</td>\n",
       "      <td>0.553500</td>\n",
       "      <td>263286.500000</td>\n",
       "      <td>44.000000</td>\n",
       "      <td>2</td>\n",
       "      <td>['taiwan campus folk']</td>\n",
       "    </tr>\n",
       "    <tr>\n",
       "      <th>27612</th>\n",
       "      <td>陳蘭麗</td>\n",
       "      <td>0.609000</td>\n",
       "      <td>152883.000000</td>\n",
       "      <td>34.000000</td>\n",
       "      <td>2</td>\n",
       "      <td>['taiwan campus folk']</td>\n",
       "    </tr>\n",
       "    <tr>\n",
       "      <th>27616</th>\n",
       "      <td>鳳飛飛</td>\n",
       "      <td>0.358000</td>\n",
       "      <td>259387.000000</td>\n",
       "      <td>35.000000</td>\n",
       "      <td>2</td>\n",
       "      <td>['c-pop', 'classic mandopop', 'vintage chinese...</td>\n",
       "    </tr>\n",
       "    <tr>\n",
       "      <th>27617</th>\n",
       "      <td>黃品源</td>\n",
       "      <td>0.578000</td>\n",
       "      <td>293840.000000</td>\n",
       "      <td>47.000000</td>\n",
       "      <td>2</td>\n",
       "      <td>['c-pop', 'classic cantopop', 'classic mandopop']</td>\n",
       "    </tr>\n",
       "    <tr>\n",
       "      <th>27620</th>\n",
       "      <td>黑豹</td>\n",
       "      <td>0.353000</td>\n",
       "      <td>316160.000000</td>\n",
       "      <td>34.000000</td>\n",
       "      <td>2</td>\n",
       "      <td>['chinese indie', 'chinese indie rock']</td>\n",
       "    </tr>\n",
       "  </tbody>\n",
       "</table>\n",
       "<p>18091 rows × 6 columns</p>\n",
       "</div>"
      ],
      "text/plain": [
       "                                          artists  danceability  \\\n",
       "0                \"Cats\" 1981 Original London Cast      0.442750   \n",
       "9                             \"Weird Al\" Yankovic      0.664788   \n",
       "11                                           $NOT      0.750125   \n",
       "13                                    $uicideBoy$      0.765246   \n",
       "15     'In The Heights' Original Broadway Company      0.541000   \n",
       "...                                           ...           ...   \n",
       "27611                                         陳秀男      0.553500   \n",
       "27612                                         陳蘭麗      0.609000   \n",
       "27616                                         鳳飛飛      0.358000   \n",
       "27617                                         黃品源      0.578000   \n",
       "27620                                          黑豹      0.353000   \n",
       "\n",
       "         duration_ms  popularity  count  \\\n",
       "0      247260.000000   38.000000     12   \n",
       "9      218165.257576   33.681818    132   \n",
       "11     152929.500000   64.625000      8   \n",
       "13     147549.442623   61.647541    122   \n",
       "15     301908.294118   46.588235     17   \n",
       "...              ...         ...    ...   \n",
       "27611  263286.500000   44.000000      2   \n",
       "27612  152883.000000   34.000000      2   \n",
       "27616  259387.000000   35.000000      2   \n",
       "27617  293840.000000   47.000000      2   \n",
       "27620  316160.000000   34.000000      2   \n",
       "\n",
       "                                                  genres  \n",
       "0                                         ['show tunes']  \n",
       "9      ['antiviral pop', 'comedy rock', 'comic', 'par...  \n",
       "11     ['east coast hip hop', 'gangster rap', 'hardco...  \n",
       "13     ['dark trap', 'new orleans rap', 'underground ...  \n",
       "15                            ['broadway', 'show tunes']  \n",
       "...                                                  ...  \n",
       "27611                             ['taiwan campus folk']  \n",
       "27612                             ['taiwan campus folk']  \n",
       "27616  ['c-pop', 'classic mandopop', 'vintage chinese...  \n",
       "27617  ['c-pop', 'classic cantopop', 'classic mandopop']  \n",
       "27620            ['chinese indie', 'chinese indie rock']  \n",
       "\n",
       "[18091 rows x 6 columns]"
      ]
     },
     "execution_count": 87,
     "metadata": {},
     "output_type": "execute_result"
    }
   ],
   "source": [
    "#Creamos una nueva tabla que contenga solamente artistas con géneros no nulos \n",
    "#y la guardamos en la variable no_null_genre_a\n",
    "no_null_genre_a = df_w_genre[df_w_genre.genres != \"[]\"]\n",
    "no_null_genre_a\n",
    "#Ahora que tenemos esta nueva tabla sin valores nulos, procedemos a \n",
    "#eliminar las columnas no deseadas y guardamos esta nueva tabla en new_df_genre\n",
    "#Se decide eliminar estas columnas ya que no tienen importancia para alcanzar nuestros objetivos\n",
    "#solo nos interesa la columna artistas, bailabilidad, duración en ms, popularidad, conteo\n",
    "#de cuantas veces está presente ese artista en la tabla y géneros\n",
    "new_df_w_genre = no_null_genre_a.drop(['acousticness', 'instrumentalness', 'liveness', \n",
    "                               'loudness', 'speechiness', 'tempo', 'valence', 'energy', \n",
    "                                  'mode', 'key'], axis=1)\n",
    "new_df_w_genre"
   ]
  },
  {
   "cell_type": "markdown",
   "metadata": {},
   "source": [
    "Ahora, vamos a guardar estas nuevas tablas con las columnas y filas que solamente necesitamos como otros archivos para poder utilizarlas más tarde."
   ]
  },
  {
   "cell_type": "code",
   "execution_count": 101,
   "metadata": {},
   "outputs": [],
   "source": [
    "new_df.to_csv('new_df.csv', index=False)\n",
    "new_df_artist.to_csv('new_data_by_artist.csv', index=False)\n",
    "new_df_year.to_csv('new_data_by_year.csv', index=False)\n",
    "new_df_genre.to_csv('new_data_by_genres.csv', index=False)\n",
    "new_df_w_genre.to_csv('new_data_w_genres.csv', index=False)"
   ]
  },
  {
   "cell_type": "markdown",
   "metadata": {},
   "source": [
    "---------\n",
    "\n",
    "### Estadística Básica de los Datos\n",
    "\n",
    "\n",
    "Importamos las nuevas tablas que acabamos de guardar."
   ]
  },
  {
   "cell_type": "code",
   "execution_count": 89,
   "metadata": {},
   "outputs": [],
   "source": [
    "new_df = pd.read_csv(\"new_data.csv\")\n",
    "new_df_art = pd.read_csv(\"new_data_by_artist.csv\")\n",
    "new_df_gen = pd.read_csv(\"new_data_by_genres.csv\")\n",
    "new_df_year = pd.read_csv(\"new_data_by_year.csv\")\n",
    "new_df_w_gen = pd.read_csv(\"new_data_w_genres.csv\")"
   ]
  },
  {
   "cell_type": "markdown",
   "metadata": {},
   "source": [
    "**Datos estadísticos básicos**\n",
    "\n",
    "- Vamos a sacar el **promedio** de los elementos de la columna bailabilidad de la tabla canciones.\n",
    "\n",
    "La bailabilidad en la tabla canciones 'data.csv' nos dice que de todas las canciones mas de la mitad son bailables."
   ]
  },
  {
   "cell_type": "code",
   "execution_count": 103,
   "metadata": {},
   "outputs": [
    {
     "data": {
      "text/plain": [
       "0.5381497172015446"
      ]
     },
     "execution_count": 103,
     "metadata": {},
     "output_type": "execute_result"
    }
   ],
   "source": [
    "new_df['danceability'].mean()"
   ]
  },
  {
   "cell_type": "markdown",
   "metadata": {},
   "source": [
    "- Ahora vamos a sacar el **promedio** de los elementos de la columna duracion en milisegundos en la tabla canciones\n",
    "\n",
    "La duracion promedio de una cancion es de 231406.16 milisegundos (3.8 minutos)"
   ]
  },
  {
   "cell_type": "code",
   "execution_count": 104,
   "metadata": {},
   "outputs": [
    {
     "data": {
      "text/plain": [
       "231406.1589733328"
      ]
     },
     "execution_count": 104,
     "metadata": {},
     "output_type": "execute_result"
    }
   ],
   "source": [
    "new_df['duration_ms'].mean()"
   ]
  },
  {
   "cell_type": "markdown",
   "metadata": {},
   "source": [
    "- Vamos a sacar la **desviación estándar** de la columna de bailabilidad de la tabla canciones\n",
    "\n",
    "Este resultado nos dice que de tiene un rango minimo de dispersion ya que los datos son algo parecidos entre si."
   ]
  },
  {
   "cell_type": "code",
   "execution_count": 105,
   "metadata": {},
   "outputs": [
    {
     "data": {
      "text/plain": [
       "0.1753457820476098"
      ]
     },
     "execution_count": 105,
     "metadata": {},
     "output_type": "execute_result"
    }
   ],
   "source": [
    "new_df['danceability'].std()"
   ]
  },
  {
   "cell_type": "markdown",
   "metadata": {},
   "source": [
    "- Ahora utilizaremos la funcion count() para **contar** cuántos años hay en la tabla clasificada por años.\n",
    "\n",
    "Esto nos dice que hay **100 años** en nuestra tabla (1921-2020), esto es un dato que ya sabiamos solo había que confirmarlo."
   ]
  },
  {
   "cell_type": "code",
   "execution_count": 106,
   "metadata": {},
   "outputs": [
    {
     "data": {
      "text/plain": [
       "year            100\n",
       "danceability    100\n",
       "duration_ms     100\n",
       "popularity      100\n",
       "dtype: int64"
      ]
     },
     "execution_count": 106,
     "metadata": {},
     "output_type": "execute_result"
    }
   ],
   "source": [
    "new_df_year.count()"
   ]
  },
  {
   "cell_type": "markdown",
   "metadata": {},
   "source": [
    "- También usaremos count() para **contar** cuántas canciones hay en la tabla de canciones.\n",
    "\n",
    "Hay un total de **169,909 canciones** en la tabla"
   ]
  },
  {
   "cell_type": "code",
   "execution_count": 107,
   "metadata": {},
   "outputs": [
    {
     "data": {
      "text/plain": [
       "artists         169909\n",
       "danceability    169909\n",
       "duration_ms     169909\n",
       "explicit        169909\n",
       "id              169909\n",
       "name            169909\n",
       "popularity      169909\n",
       "release_date    169909\n",
       "year            169909\n",
       "dtype: int64"
      ]
     },
     "execution_count": 107,
     "metadata": {},
     "output_type": "execute_result"
    }
   ],
   "source": [
    "new_df.count()"
   ]
  },
  {
   "cell_type": "markdown",
   "metadata": {},
   "source": [
    "- A continuación, podemos ver que hay **2,663 géneros** en la tabla clasificada por géneros"
   ]
  },
  {
   "cell_type": "code",
   "execution_count": 109,
   "metadata": {},
   "outputs": [
    {
     "data": {
      "text/plain": [
       "2663"
      ]
     },
     "execution_count": 109,
     "metadata": {},
     "output_type": "execute_result"
    }
   ],
   "source": [
    "new_df_gen['genres'].count()"
   ]
  },
  {
   "cell_type": "markdown",
   "metadata": {},
   "source": [
    "- También podemos ver que hay **27,621 artistas** en la tabla clasificada por artistas."
   ]
  },
  {
   "cell_type": "code",
   "execution_count": 110,
   "metadata": {},
   "outputs": [
    {
     "data": {
      "text/plain": [
       "27621"
      ]
     },
     "execution_count": 110,
     "metadata": {},
     "output_type": "execute_result"
    }
   ],
   "source": [
    "new_df_art['artists'].count()"
   ]
  },
  {
   "cell_type": "markdown",
   "metadata": {},
   "source": [
    "- Observamos que el valor minimo de popularidad para una cancion es de **0**"
   ]
  },
  {
   "cell_type": "code",
   "execution_count": 112,
   "metadata": {},
   "outputs": [
    {
     "data": {
      "text/plain": [
       "0"
      ]
     },
     "execution_count": 112,
     "metadata": {},
     "output_type": "execute_result"
    }
   ],
   "source": [
    "new_df['popularity'].min()"
   ]
  },
  {
   "cell_type": "markdown",
   "metadata": {},
   "source": [
    "- Mientras que el valor máximo de popularidad para una canción es de **100**"
   ]
  },
  {
   "cell_type": "code",
   "execution_count": 113,
   "metadata": {},
   "outputs": [
    {
     "data": {
      "text/plain": [
       "100"
      ]
     },
     "execution_count": 113,
     "metadata": {},
     "output_type": "execute_result"
    }
   ],
   "source": [
    "new_df['popularity'].max()"
   ]
  },
  {
   "cell_type": "markdown",
   "metadata": {},
   "source": [
    "- Valor minimo de una canción en milisegundos es de 5,108 milisegundos, **0.005 segundos**"
   ]
  },
  {
   "cell_type": "code",
   "execution_count": 116,
   "metadata": {},
   "outputs": [
    {
     "data": {
      "text/plain": [
       "5108"
      ]
     },
     "execution_count": 116,
     "metadata": {},
     "output_type": "execute_result"
    }
   ],
   "source": [
    "new_df['duration_ms'].min()"
   ]
  },
  {
   "cell_type": "markdown",
   "metadata": {},
   "source": [
    "- Valor maximo de una canción en milisegundos es de 540,3500 milisegundos, **90 minutos**"
   ]
  },
  {
   "cell_type": "code",
   "execution_count": 118,
   "metadata": {},
   "outputs": [
    {
     "data": {
      "text/plain": [
       "5403500"
      ]
     },
     "execution_count": 118,
     "metadata": {},
     "output_type": "execute_result"
    }
   ],
   "source": [
    "new_df['duration_ms'].max()"
   ]
  },
  {
   "cell_type": "markdown",
   "metadata": {},
   "source": [
    "- En promedio, una canción tiene el valor de popularidad de **31.55/100**"
   ]
  },
  {
   "cell_type": "code",
   "execution_count": 119,
   "metadata": {},
   "outputs": [
    {
     "data": {
      "text/plain": [
       "31.55660971461194"
      ]
     },
     "execution_count": 119,
     "metadata": {},
     "output_type": "execute_result"
    }
   ],
   "source": [
    "new_df['popularity'].mean()"
   ]
  },
  {
   "cell_type": "markdown",
   "metadata": {},
   "source": [
    "Toda esta información de estadística básica nos es útil para saber con cúantas canciones, géneros, artistas y años vamos a estar trabajando. También, nos será útil saber la popularidad promedio ya que nuestro objetivo es realizar un sistema de recomendación y para ello nos basaremos en varias columnas, entre ellos la popularidad.\n",
    "\n",
    "-----"
   ]
  },
  {
   "cell_type": "markdown",
   "metadata": {},
   "source": [
    "### Gráficas\n",
    "\n",
    "---------"
   ]
  },
  {
   "cell_type": "code",
   "execution_count": 125,
   "metadata": {},
   "outputs": [],
   "source": [
    "#Importamos las liberias necesarias para las graficas\n",
    "import numpy as np\n",
    "import matplotlib.pyplot as plt\n",
    "%matplotlib inline\n",
    "import seaborn as sns"
   ]
  },
  {
   "cell_type": "markdown",
   "metadata": {},
   "source": [
    "- Esta primera grafica nos muestra los 15 artistas que tienen más presencia/canciones en la tabla de canciones. Por ejemplo, **The Beatles** se repite alrededor de 400 veces y tambien podemos concluir que el artista **Эрнест Хемингуэй** es el que tiene mas canciones en nuestra tabla de canciones."
   ]
  },
  {
   "cell_type": "code",
   "execution_count": 126,
   "metadata": {},
   "outputs": [
    {
     "data": {
      "text/plain": [
       "Text(0, 0.5, 'Numero de canciones')"
      ]
     },
     "execution_count": 126,
     "metadata": {},
     "output_type": "execute_result"
    },
    {
     "data": {
      "image/png": "[encoded data removed]",
      "text/plain": [
       "<Figure size 432x288 with 1 Axes>"
      ]
     },
     "metadata": {
      "needs_background": "light"
     },
     "output_type": "display_data"
    }
   ],
   "source": [
    "new_df['artists'].value_counts().head(15).plot.bar()\n",
    "plt.title('Top 15 artistas')\n",
    "plt.xlabel('Artistas')\n",
    "plt.ylabel('Numero de canciones')"
   ]
  },
  {
   "cell_type": "markdown",
   "metadata": {},
   "source": [
    "- Ahora queremos ver la proporción en el eje de las y. La siguiente gráfica nos indica que poco más de **7%** de las canciones que hay en total en el dataset son del artista Эрнест Хемингуэй"
   ]
  },
  {
   "cell_type": "code",
   "execution_count": 128,
   "metadata": {},
   "outputs": [
    {
     "data": {
      "text/plain": [
       "Text(0, 0.5, 'Numero de canciones')"
      ]
     },
     "execution_count": 128,
     "metadata": {},
     "output_type": "execute_result"
    },
    {
     "data": {
      "image/png": "[encoded data removed]",
      "text/plain": [
       "<Figure size 432x288 with 1 Axes>"
      ]
     },
     "metadata": {
      "needs_background": "light"
     },
     "output_type": "display_data"
    }
   ],
   "source": [
    "(new_df['artists'].value_counts().head(15)/len(df)).plot.bar()\n",
    "plt.title('Top 15 artistas')\n",
    "plt.xlabel('Artistas')\n",
    "plt.ylabel('Numero de canciones')"
   ]
  },
  {
   "cell_type": "markdown",
   "metadata": {},
   "source": [
    "- En esta siguiente grafica podemos observar que en el año 1920 las canciones que se hacian eran menos de 250 y luego vemos que en el año aproximadamente 1940 subió mucho el número de canciones para luego bajar drasticamenete en los siguientes años.\n",
    "\n",
    "A partir del año 1960 podemos ver que el número de canciones que se hicieron se mantuvo muy estable, ya no bajo ni subió, hasta el 2020 que el número bajó, ¿por qué creemos que esta cantidad decrementó? Creemos que es porque aun estamos en el 2020 y la base de datos no ha sido actualizada con todas las canciones que han salido este año, tendríamos que esperarnos a que termine el año y actualizar la base de datos con las canciones de este año para poder realizar una mejor comparación."
   ]
  },
  {
   "cell_type": "code",
   "execution_count": 130,
   "metadata": {},
   "outputs": [
    {
     "data": {
      "text/plain": [
       "<matplotlib.axes._subplots.AxesSubplot at 0x23f4807ea90>"
      ]
     },
     "execution_count": 130,
     "metadata": {},
     "output_type": "execute_result"
    },
    {
     "data": {
      "image/png": "[encoded data removed]",
      "text/plain": [
       "<Figure size 432x288 with 1 Axes>"
      ]
     },
     "metadata": {
      "needs_background": "light"
     },
     "output_type": "display_data"
    }
   ],
   "source": [
    "new_df['year'].value_counts().sort_index().plot.line()"
   ]
  },
  {
   "cell_type": "markdown",
   "metadata": {},
   "source": [
    "- En esta siguiente grafica podemos apreciar que un gran porcentaje de las canciones tienen una popularidad de **0**, mientras que las canciones que tienen popularidad de mas de **80** son relativamente pocas, comparandolo con la cantidad total de canciones que tenemos en el dataset. Otra conclusion que podemos hacer es que la mayoria de las canciones en el dataset tiene una popularidad entre **30 y 60**."
   ]
  },
  {
   "cell_type": "code",
   "execution_count": 131,
   "metadata": {},
   "outputs": [
    {
     "data": {
      "text/plain": [
       "<matplotlib.axes._subplots.AxesSubplot at 0x23f480e2d00>"
      ]
     },
     "execution_count": 131,
     "metadata": {},
     "output_type": "execute_result"
    },
    {
     "data": {
      "image/png": "[encoded data removed]",
      "text/plain": [
       "<Figure size 432x288 with 1 Axes>"
      ]
     },
     "metadata": {
      "needs_background": "light"
     },
     "output_type": "display_data"
    }
   ],
   "source": [
    "sns.distplot(new_df['popularity'], bins=10, kde=False)"
   ]
  },
  {
   "cell_type": "markdown",
   "metadata": {},
   "source": [
    "- Ya que estamos en el ambito de popularidad, ahora nos interesa saber exactamente cuales son las cancines más populares.\n",
    "\n",
    "En la siguiente tabla podemos apreciar las 15 canciones mas populares. Podemos apreciar que la cancion **\"death bed\"** tiene una popularidad de casi **100**.\n",
    "\n",
    "[Link que nos ayudó a descubrir y utilizar esta tabla](https://www.kaggle.com/tanujdhiman/spotify-data-visualiation)"
   ]
  },
  {
   "cell_type": "code",
   "execution_count": 133,
   "metadata": {},
   "outputs": [
    {
     "data": {
      "text/plain": [
       "(array([ 0,  1,  2,  3,  4,  5,  6,  7,  8,  9, 10, 11, 12, 13, 14]),\n",
       " <a list of 15 Text major ticklabel objects>)"
      ]
     },
     "execution_count": 133,
     "metadata": {},
     "output_type": "execute_result"
    },
    {
     "data": {
      "image/png": "[encoded data removed]",
      "text/plain": [
       "<Figure size 432x288 with 1 Axes>"
      ]
     },
     "metadata": {
      "needs_background": "light"
     },
     "output_type": "display_data"
    }
   ],
   "source": [
    "x = new_df.groupby('name')['popularity'].mean().sort_values(ascending=False).head(15)\n",
    "ax = sns.barplot(x.index, x)\n",
    "ax.set_title('Canciones mas populares')\n",
    "ax.set_xlabel('Cancion')\n",
    "ax.set_ylabel('Popularidad')\n",
    "plt.xticks(rotation=90)"
   ]
  },
  {
   "cell_type": "markdown",
   "metadata": {},
   "source": [
    "- En la siguiente tabla podemos observar los artistas mas populares segun el su grado de popularidad. Podemos concluir que la artista **Emilee** es la mas popular con un valor de poco mas de **80** de popularidad**"
   ]
  },
  {
   "cell_type": "code",
   "execution_count": 145,
   "metadata": {},
   "outputs": [
    {
     "data": {
      "text/plain": [
       "(array([ 0,  1,  2,  3,  4,  5,  6,  7,  8,  9, 10, 11, 12, 13, 14]),\n",
       " <a list of 15 Text major ticklabel objects>)"
      ]
     },
     "execution_count": 145,
     "metadata": {},
     "output_type": "execute_result"
    },
    {
     "data": {
      "image/png": "[encoded data removed]",
      "text/plain": [
       "<Figure size 432x288 with 1 Axes>"
      ]
     },
     "metadata": {
      "needs_background": "light"
     },
     "output_type": "display_data"
    }
   ],
   "source": [
    "x = new_df_art.groupby('artists')['popularity'].mean().sort_values(ascending=False).head(15)\n",
    "ax = sns.barplot(x.index, x)\n",
    "ax.set_title('Artistas mas populares')\n",
    "ax.set_xlabel('Artista')\n",
    "ax.set_ylabel('Popularidad')\n",
    "plt.xticks(rotation=90)"
   ]
  },
  {
   "cell_type": "markdown",
   "metadata": {},
   "source": [
    "- Ya que sabemos cuales son las canciones mas populares, ahora nos interesa saber cuales géneros son los más populares. Esto lo obtenemos segun la columna de popularidad de la tabla clasificada por generos. Podemos ver que el género **guaracha** es el más popular."
   ]
  },
  {
   "cell_type": "code",
   "execution_count": 144,
   "metadata": {},
   "outputs": [
    {
     "data": {
      "text/plain": [
       "(array([ 0,  1,  2,  3,  4,  5,  6,  7,  8,  9, 10, 11, 12, 13, 14, 15, 16,\n",
       "        17, 18, 19, 20, 21, 22, 23, 24, 25, 26, 27, 28, 29]),\n",
       " <a list of 30 Text major ticklabel objects>)"
      ]
     },
     "execution_count": 144,
     "metadata": {},
     "output_type": "execute_result"
    },
    {
     "data": {
      "image/png": "[encoded data removed]",
      "text/plain": [
       "<Figure size 432x288 with 1 Axes>"
      ]
     },
     "metadata": {
      "needs_background": "light"
     },
     "output_type": "display_data"
    }
   ],
   "source": [
    "x = new_df_gen.groupby('genres')['popularity'].mean().sort_values(ascending=False).head(30)\n",
    "ax = sns.barplot(x.index, x)\n",
    "ax.set_title('Generos mas populares')\n",
    "ax.set_xlabel('Genero')\n",
    "ax.set_ylabel('Popularidad')\n",
    "plt.xticks(rotation=90)"
   ]
  },
  {
   "cell_type": "markdown",
   "metadata": {},
   "source": [
    "- Ahora nos interesa saber cuáles años han sido los más populares, es decir, qué años son los que tienen más cantidad de canciones populares. En la siguiente gráfica podemos ver los 15 años más populares y podemos concluir que el año **2019** ha sido el año mas popular en la historia de nuestra base de datos."
   ]
  },
  {
   "cell_type": "code",
   "execution_count": 143,
   "metadata": {},
   "outputs": [
    {
     "data": {
      "text/plain": [
       "(array([ 0,  1,  2,  3,  4,  5,  6,  7,  8,  9, 10, 11, 12, 13, 14]),\n",
       " <a list of 15 Text major ticklabel objects>)"
      ]
     },
     "execution_count": 143,
     "metadata": {},
     "output_type": "execute_result"
    },
    {
     "data": {
      "image/png": "[encoded data removed]",
      "text/plain": [
       "<Figure size 432x288 with 1 Axes>"
      ]
     },
     "metadata": {
      "needs_background": "light"
     },
     "output_type": "display_data"
    }
   ],
   "source": [
    "x = new_df_year.groupby('year')['popularity'].mean().sort_values(ascending=False).head(15)\n",
    "ax = sns.barplot(x.index, x)\n",
    "ax.set_title('Años mas populares en la música')\n",
    "ax.set_xlabel('Año')\n",
    "ax.set_ylabel('Popularidad')\n",
    "plt.xticks(rotation=90)"
   ]
  },
  {
   "cell_type": "markdown",
   "metadata": {},
   "source": [
    "- En la siguiente gráfica Hexplot, podemos observar que la popularidad de las canciones en general ha ido **aumentando** con el paso de los años."
   ]
  },
  {
   "cell_type": "code",
   "execution_count": 149,
   "metadata": {},
   "outputs": [
    {
     "data": {
      "text/plain": [
       "<matplotlib.axes._subplots.AxesSubplot at 0x23f4ad05160>"
      ]
     },
     "execution_count": 149,
     "metadata": {},
     "output_type": "execute_result"
    },
    {
     "data": {
      "image/png": "[encoded data removed]",
      "text/plain": [
       "<Figure size 432x288 with 2 Axes>"
      ]
     },
     "metadata": {
      "needs_background": "light"
     },
     "output_type": "display_data"
    }
   ],
   "source": [
    "new_df_year[new_df_year['popularity'] < 100].plot.hexbin(x='popularity', y='year', gridsize=15)"
   ]
  },
  {
   "cell_type": "markdown",
   "metadata": {},
   "source": [
    "- En la siguiente grafica multivariante podemos observar que conforme han pasado los años el número de canciones con contenido **explicito** han **aumentado** mucho."
   ]
  },
  {
   "cell_type": "code",
   "execution_count": 137,
   "metadata": {},
   "outputs": [
    {
     "data": {
      "text/plain": [
       "<seaborn.axisgrid.FacetGrid at 0x23f49de3640>"
      ]
     },
     "execution_count": 137,
     "metadata": {},
     "output_type": "execute_result"
    },
    {
     "data": {
      "image/png": "[encoded data removed]",
      "text/plain": [
       "<Figure size 404.125x360 with 1 Axes>"
      ]
     },
     "metadata": {
      "needs_background": "light"
     },
     "output_type": "display_data"
    }
   ],
   "source": [
    "sns.lmplot(x='popularity', y='year', hue='explicit', \n",
    "           data=new_df.loc[new_df['explicit'].isin([0, 1])], \n",
    "           fit_reg=False)"
   ]
  },
  {
   "cell_type": "markdown",
   "metadata": {},
   "source": [
    "- Sin embargo, si hacemos un histograma, nos podemos dar cuenta de que a pesar que las canciones con contenido explicito han aumentado mucho con el paso de los años, en general **predominan** las canciones con contenido no explicito. Podemos apreciar los resultados en el siguiente histograma."
   ]
  },
  {
   "cell_type": "code",
   "execution_count": 138,
   "metadata": {},
   "outputs": [
    {
     "data": {
      "image/png": "[encoded data removed]",
      "text/plain": [
       "<Figure size 432x288 with 1 Axes>"
      ]
     },
     "metadata": {
      "needs_background": "light"
     },
     "output_type": "display_data"
    }
   ],
   "source": [
    "m = plt.hist(new_df[new_df[\"explicit\"] == 0].popularity,bins=30,fc = (1,0,0,0.5),label = \"No explicito\")\n",
    "b = plt.hist(new_df[new_df[\"explicit\"] == 1].popularity,bins=30,fc = (0,1,0,0.5),label = \"Explicito\")\n",
    "plt.legend()\n",
    "plt.xlabel(\"Tipo de contenido\")\n",
    "plt.ylabel(\"Frecuencia\")\n",
    "plt.title(\"Histograma\")\n",
    "plt.show()"
   ]
  },
  {
   "cell_type": "markdown",
   "metadata": {},
   "source": [
    "- Como se puede observar en la grafica lineal la mayoria de las canciones tiene mas de la mitad de bailabilidad."
   ]
  },
  {
   "cell_type": "code",
   "execution_count": 140,
   "metadata": {},
   "outputs": [
    {
     "data": {
      "text/plain": [
       "<matplotlib.axes._subplots.AxesSubplot at 0x23f4a26ce50>"
      ]
     },
     "execution_count": 140,
     "metadata": {},
     "output_type": "execute_result"
    },
    {
     "data": {
      "image/png": "[encoded data removed]",
      "text/plain": [
       "<Figure size 432x288 with 1 Axes>"
      ]
     },
     "metadata": {
      "needs_background": "light"
     },
     "output_type": "display_data"
    }
   ],
   "source": [
    "new_df['danceability'].value_counts().sort_index().plot.line()"
   ]
  },
  {
   "cell_type": "markdown",
   "metadata": {},
   "source": [
    "- Aqui se puede observar los intervalos, y cuantas canciones de nuestra base de datos tienen una bailabilidad menor de **40%**"
   ]
  },
  {
   "cell_type": "code",
   "execution_count": 141,
   "metadata": {},
   "outputs": [
    {
     "data": {
      "text/plain": [
       "<matplotlib.axes._subplots.AxesSubplot at 0x23f4a36b6d0>"
      ]
     },
     "execution_count": 141,
     "metadata": {},
     "output_type": "execute_result"
    },
    {
     "data": {
      "image/png": "[encoded data removed]",
      "text/plain": [
       "<Figure size 432x288 with 1 Axes>"
      ]
     },
     "metadata": {
      "needs_background": "light"
     },
     "output_type": "display_data"
    }
   ],
   "source": [
    "df[df['danceability']<.4]['danceability'].plot.hist()"
   ]
  },
  {
   "cell_type": "markdown",
   "metadata": {},
   "source": [
    "- Lo que se puede observar en la grafica siguiente, es que la bailabilidad total de cada año, se observa que a inicios de años **1921-1936** las canciones tenian un alto valor de bailabilidad, despues se vio un considerable decremento en los **40's**, y posteriormente fue **incrementando**."
   ]
  },
  {
   "cell_type": "code",
   "execution_count": 142,
   "metadata": {},
   "outputs": [
    {
     "data": {
      "text/plain": [
       "<matplotlib.axes._subplots.AxesSubplot at 0x23f4a3d54c0>"
      ]
     },
     "execution_count": 142,
     "metadata": {},
     "output_type": "execute_result"
    },
    {
     "data": {
      "image/png": "[encoded data removed]",
      "text/plain": [
       "<Figure size 432x288 with 1 Axes>"
      ]
     },
     "metadata": {
      "needs_background": "light"
     },
     "output_type": "display_data"
    }
   ],
   "source": [
    "baianio = df_year[[\"danceability\"]]\n",
    "baianio.plot.line()"
   ]
  },
  {
   "cell_type": "markdown",
   "metadata": {},
   "source": [
    "-----"
   ]
  },
  {
   "cell_type": "markdown",
   "metadata": {},
   "source": [
    "### Conclusión Global\n",
    "\n",
    "\n",
    "Aún no podemos contestar nuestros objetivos ya que aún no hemos desarrollado la herramienta que será un sistema de recomendación. Sin embargo, ya podemos ir concluyendo cuáles son los géneros, artistas, canciones y años más populares. Esto nos sirve ya que podríamos inferir qué géneros, artistas o canciones le interesan a nuestros usuarios.\n",
    "\n",
    "También, podemos inferir que los géneros más populares el siguiente año serán guaracha o trap en español o que las canciones más populares muy probablemente tengan un contenido explícito, también podríamos inferir que probablemente la artista Emilee estará dentro de los artistas populares del siguiente año. Esto es información útil para nuestro objetivo secundario.\n",
    "\n",
    "-----"
   ]
  },
  {
   "cell_type": "code",
   "execution_count": null,
   "metadata": {},
   "outputs": [],
   "source": []
  }
 ],
 "metadata": {
  "kernelspec": {
   "display_name": "Python 3",
   "language": "python",
   "name": "python3"
  },
  "language_info": {
   "codemirror_mode": {
    "name": "ipython",
    "version": 3
   },
   "file_extension": ".py",
   "mimetype": "text/x-python",
   "name": "python",
   "nbconvert_exporter": "python",
   "pygments_lexer": "ipython3",
   "version": "3.8.3"
  }
 },
 "nbformat": 4,
 "nbformat_minor": 4
}
