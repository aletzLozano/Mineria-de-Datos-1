{
 "cells": [
  {
   "cell_type": "markdown",
   "metadata": {},
   "source": [
    "## Ejercicios de Python Basico\n",
    "**Carla Mayela De la Garza Fernandez 1729734\n",
    "Mineria de Datos 012**"
   ]
  },
  {
   "cell_type": "code",
   "execution_count": 101,
   "metadata": {},
   "outputs": [],
   "source": [
    "#Librerias necesarias para estos ejercicios\n",
    "import math as m\n",
    "import random as r"
   ]
  },
  {
   "cell_type": "markdown",
   "metadata": {},
   "source": [
    "**Ejercicio 1**\n",
    "\n",
    "Realiza una variable con tu matricula y realiza una secuencia de imprimir con tu nombre y tu matricula concatenados."
   ]
  },
  {
   "cell_type": "code",
   "execution_count": 102,
   "metadata": {},
   "outputs": [
    {
     "name": "stdout",
     "output_type": "stream",
     "text": [
      "Carla De la Garza 1729734\n"
     ]
    }
   ],
   "source": [
    "a = 1729734\n",
    "print ('Carla De la Garza', a)"
   ]
  },
  {
   "cell_type": "markdown",
   "metadata": {},
   "source": [
    "**Ejercicio 2**\n",
    "\n",
    "Pidiendo el input del usuario pide dos números y crea una pequeña calculadora con los operadores básicos de suma, resta, multiplicación, división, y exponente.\n",
    "\n",
    "[Link cómo imprimir un numero flotante con solo dos decimales](https://www.kite.com/python/answers/how-to-print-a-float-with-two-decimal-places-in-python#:~:text=Use%20str.,number%20with%20two%20decimal%20places)"
   ]
  },
  {
   "cell_type": "code",
   "execution_count": 103,
   "metadata": {},
   "outputs": [
    {
     "name": "stdout",
     "output_type": "stream",
     "text": [
      "Introduzca el primer numero: 30\n",
      "Introduzca el segundo numero: 10\n",
      "Suma 30.00 + 10.00 = 40.00\n",
      "Resta 30.00 - 10.00 = 20.00\n",
      "Multiplicacion 30.00 * 10.00 = 300.00\n",
      "Division 30.00 / 10.00 = 3.00\n",
      "Exponente 30.00 = 10686474581524.46\n",
      "Exponente 10.00 = 22026.47\n"
     ]
    }
   ],
   "source": [
    "num1 = float(input(\"Introduzca el primer numero: \"))\n",
    "num2 = float(input(\"Introduzca el segundo numero: \"))\n",
    "\n",
    "suma = num1+num2\n",
    "resta = num1-num2\n",
    "mult = num1*num2\n",
    "div = num1/num2\n",
    "exp1 = \"{:.2f}\".format(m.exp(num1))\n",
    "exp2 = \"{:.2f}\".format(m.exp(num2))\n",
    "\n",
    "print(\"Suma %.2f + %.2f = %.2f\" %(num1, num2, suma))\n",
    "print(\"Resta %.2f - %.2f = %.2f\" %(num1, num2, resta))\n",
    "print(\"Multiplicacion %.2f * %.2f = %.2f\" %(num1, num2, mult))\n",
    "print(\"Division %.2f / %.2f = %.2f\" %(num1, num2, div))\n",
    "print(\"Exponente %.2f = %s\" %(num1, exp1))\n",
    "print(\"Exponente %.2f = %s\" %(num2, exp2))\n"
   ]
  },
  {
   "cell_type": "markdown",
   "metadata": {},
   "source": [
    "**Ejercicio 3**\n",
    "\n",
    "Con loop while o for, realiza una lista de 10 numeros multiplos de 3, y después realiza una función de loop que sume todos los números dentro del arreglo."
   ]
  },
  {
   "cell_type": "code",
   "execution_count": 104,
   "metadata": {},
   "outputs": [
    {
     "name": "stdout",
     "output_type": "stream",
     "text": [
      "[3, 6, 9, 12, 15, 18, 21, 24, 27, 30]\n",
      "165\n"
     ]
    }
   ],
   "source": [
    "lista = []\n",
    "suma_lista = 0\n",
    "for i in range(1,11):\n",
    "    lista.append(i*3)\n",
    "print(lista)\n",
    "\n",
    "for i in lista:\n",
    "    suma_lista = suma_lista+i\n",
    "print(suma_lista)"
   ]
  },
  {
   "cell_type": "markdown",
   "metadata": {},
   "source": [
    "**Ejercicio 4**\n",
    "\n",
    "Con una función de if else, revisar si un número es par o es impar."
   ]
  },
  {
   "cell_type": "code",
   "execution_count": 13,
   "metadata": {},
   "outputs": [
    {
     "name": "stdout",
     "output_type": "stream",
     "text": [
      "Introduzca un numero: 47\n",
      "El numero es impar\n"
     ]
    }
   ],
   "source": [
    "#Revisar si un numero es par o impar\n",
    "num = int(input(\"Introduzca un numero: \"))\n",
    "if num % 2 == 0:\n",
    "    print(\"El numero es par\")\n",
    "else:\n",
    "    print(\"El numero es impar\")"
   ]
  },
  {
   "cell_type": "markdown",
   "metadata": {},
   "source": [
    "Con una función de if else, revisar si un número es primo o no."
   ]
  },
  {
   "cell_type": "code",
   "execution_count": 185,
   "metadata": {},
   "outputs": [
    {
     "name": "stdout",
     "output_type": "stream",
     "text": [
      "Introduzca un numero entero mayor a 0:33\n",
      "El numero no es primo\n"
     ]
    }
   ],
   "source": [
    "i = 0\n",
    "num = int(input(\"Introduzca un numero entero mayor a 0:\"))\n",
    "\n",
    "cont = 0\n",
    "\n",
    "for i in range(2, num):\n",
    "    if num % i == 0:\n",
    "        cont = cont + 1\n",
    "    else:\n",
    "        continue\n",
    "        \n",
    "if cont > 0:\n",
    "    print(\"El numero no es primo\")\n",
    "elif cont == 0:\n",
    "    print(\"El numero es primo\")"
   ]
  },
  {
   "cell_type": "markdown",
   "metadata": {},
   "source": [
    "**Ejercicio 5**\n",
    "\n",
    "Utilizando diferentes clases en python, crea una calculadora con los operadores básicos de suma, resta, multiplicación, división, y exponente."
   ]
  },
  {
   "cell_type": "code",
   "execution_count": 106,
   "metadata": {},
   "outputs": [
    {
     "name": "stdout",
     "output_type": "stream",
     "text": [
      "Introduzca el primer numero: 100\n",
      "Introduzca el segundo numero: 50\n",
      "Suma 100.00 + 50.00 = 150.00\n",
      "Resta 100.00 - 50.00 = 50.00\n",
      "Multiplicacion 100.00 * 50.00 = 5000.00\n",
      "Division 100.00 / 50.00 = 2.00\n",
      "Exponente 100.00 = 2.6881171418161356e+43\n",
      "Exponente 50.00 = 5.184705528587072e+21\n"
     ]
    }
   ],
   "source": [
    "def suma(x, y):\n",
    "    suma = x + y\n",
    "    print(\"Suma %.2f + %.2f = %.2f\" %(x, y, suma))\n",
    "\n",
    "def resta(x, y):\n",
    "    resta = x - y\n",
    "    print(\"Resta %.2f - %.2f = %.2f\" %(x, y, resta))\n",
    "\n",
    "def mult(x, y):\n",
    "    mult = x * y\n",
    "    print(\"Multiplicacion %.2f * %.2f = %.2f\" %(x, y, mult))\n",
    "\n",
    "def div(x, y):\n",
    "    div = x / y\n",
    "    print(\"Division %.2f / %.2f = %.2f\" %(x, y, div))\n",
    "\n",
    "def exponente(x, y):\n",
    "    exp1 = m.exp(x)\n",
    "    exp2 = m.exp(y)\n",
    "    print(\"Exponente %.2f = %s\" %(x, exp1))\n",
    "    print(\"Exponente %.2f = %s\" %(y, exp2))\n",
    "\n",
    "num1 = float(input(\"Introduzca el primer numero: \"))\n",
    "num2 = float(input(\"Introduzca el segundo numero: \"))\n",
    "suma(num1, num2)\n",
    "resta(num1, num2)\n",
    "mult(num1, num2)\n",
    "div(num1, num2)\n",
    "exponente(num1, num2)"
   ]
  },
  {
   "cell_type": "markdown",
   "metadata": {},
   "source": [
    "**Ejercicios Tuplas**\n",
    "\n",
    "- Crear una variable flotante, integer, boleana y compleja e imprimir el tipo de variable que es"
   ]
  },
  {
   "cell_type": "code",
   "execution_count": 107,
   "metadata": {},
   "outputs": [
    {
     "name": "stdout",
     "output_type": "stream",
     "text": [
      "La primera variable es  <class 'float'>\n",
      "La segunda variable es  <class 'int'>\n",
      "La tercera variable es  <class 'bool'>\n",
      "La cuarta variable es  <class 'complex'>\n"
     ]
    }
   ],
   "source": [
    "var1 = 50.678\n",
    "var2 = 10\n",
    "var3 = False\n",
    "var4 = 5j \n",
    "print(\"La primera variable es \", type(var1))\n",
    "print(\"La segunda variable es \", type(var2))\n",
    "print(\"La tercera variable es \", type(var3))\n",
    "print(\"La cuarta variable es \", type(var4))"
   ]
  },
  {
   "cell_type": "markdown",
   "metadata": {},
   "source": [
    "- Crear una tupla con valores enteros imprimir el primer y ultimo valor"
   ]
  },
  {
   "cell_type": "code",
   "execution_count": 108,
   "metadata": {},
   "outputs": [
    {
     "name": "stdout",
     "output_type": "stream",
     "text": [
      "El primer valor es 1 y el ultimo valor es 7 \n"
     ]
    }
   ],
   "source": [
    "t1 = (1, 2, 3, 4, 5, 6, 7)\n",
    "print(\"El primer valor es %d y el ultimo valor es %d \" %(t1[0], t1[-1]))"
   ]
  },
  {
   "cell_type": "markdown",
   "metadata": {},
   "source": [
    "- Añadir 3 valores de string a la tupla"
   ]
  },
  {
   "cell_type": "code",
   "execution_count": 109,
   "metadata": {},
   "outputs": [
    {
     "name": "stdout",
     "output_type": "stream",
     "text": [
      "(1, 2, 3, 4, 5, 6, 7, 'Hola', 'como', 'estas?')\n"
     ]
    }
   ],
   "source": [
    "t1 = t1.__add__(('Hola',))\n",
    "t1 = t1.__add__(('como',))\n",
    "t1 = t1.__add__(('estas?',))\n",
    "print(t1)"
   ]
  },
  {
   "cell_type": "markdown",
   "metadata": {},
   "source": [
    "- Verificar si una variable existe dentro de la tupla"
   ]
  },
  {
   "cell_type": "code",
   "execution_count": 110,
   "metadata": {},
   "outputs": [
    {
     "name": "stdout",
     "output_type": "stream",
     "text": [
      "La variable no se encuentra en la tupla\n"
     ]
    }
   ],
   "source": [
    "test = 'hola'\n",
    "if test in t1:\n",
    "    print(\"La variable si se encuentra en la tupla\")\n",
    "else:\n",
    "    print(\"La variable no se encuentra en la tupla\")"
   ]
  },
  {
   "cell_type": "markdown",
   "metadata": {},
   "source": [
    "**Listas**\n",
    "\n",
    "- Crear una lista con 40 elementos aleatorios enteros.\n",
    "\n",
    "[Link de como seleccionar elementos random enteros y solamente del 1-100](https://www.tutorialspoint.com/generating-random-number-list-in-python )"
   ]
  },
  {
   "cell_type": "code",
   "execution_count": 112,
   "metadata": {},
   "outputs": [
    {
     "name": "stdout",
     "output_type": "stream",
     "text": [
      "[64, 1, 7, 63, 62, 13, 75, 9, 35, 82, 9, 84, 60, 48, 90, 4, 25, 66, 79, 18, 58, 88, 80, 56, 84, 46, 86, 45, 35, 64, 6, 17, 8, 38, 25, 3, 72, 63, 69, 4]\n"
     ]
    }
   ],
   "source": [
    "lista_random = []\n",
    "for i in range(0, 40):\n",
    "    lista_random.append(r.randint(1, 100))\n",
    "print(lista_random)"
   ]
  },
  {
   "cell_type": "markdown",
   "metadata": {},
   "source": [
    "- Con una funcion (def) crear dos listas nuevas a partir de la lista creada por \n",
    "numeros aleatorios, en la cual en una esten los elementos pares, y en la otra \n",
    "los elementos impares."
   ]
  },
  {
   "cell_type": "code",
   "execution_count": 113,
   "metadata": {},
   "outputs": [
    {
     "name": "stdout",
     "output_type": "stream",
     "text": [
      "Lista par: [64, 62, 82, 84, 60, 48, 90, 4, 66, 18, 58, 88, 80, 56, 84, 46, 86, 64, 6, 8, 38, 72, 4]\n",
      "Lista impar: [1, 7, 63, 13, 75, 9, 35, 9, 25, 79, 45, 35, 17, 25, 3, 63, 69]\n"
     ]
    }
   ],
   "source": [
    "def clasificar_lista_random(lista_random):\n",
    "    lista_par = []\n",
    "    lista_impar = []\n",
    "    for i in lista_random:\n",
    "        if i % 2 == 0:\n",
    "            lista_par.append(i)\n",
    "        else:\n",
    "            lista_impar.append(i)\n",
    "    return lista_par, lista_impar\n",
    "\n",
    "#Llamar a la funcion y pasar como parametro la lista_random\n",
    "lista_par, lista_impar = clasificar_lista_random(lista_random)\n",
    "print(\"Lista par:\", lista_par)\n",
    "print(\"Lista impar:\", lista_impar)"
   ]
  },
  {
   "cell_type": "markdown",
   "metadata": {},
   "source": [
    "- Crear dos variables con la longitud de ambas listas nuevas e imprimir las variables.\n",
    "\n",
    "[Link cómo retornar/devolver dos variables](https://www.geeksforgeeks.org/g-fact-41-multiple-return-values-in-python/)"
   ]
  },
  {
   "cell_type": "code",
   "execution_count": 114,
   "metadata": {},
   "outputs": [
    {
     "name": "stdout",
     "output_type": "stream",
     "text": [
      "Longitud de la lista par: 23\n",
      "Longitud de la lista impar: 17\n"
     ]
    }
   ],
   "source": [
    "len_par = len(lista_par)\n",
    "len_impar = len(lista_impar)\n",
    "\n",
    "print(\"Longitud de la lista par:\", len_par)\n",
    "print(\"Longitud de la lista impar:\", len_impar)"
   ]
  },
  {
   "cell_type": "markdown",
   "metadata": {},
   "source": [
    "- Ordenar los elementos de la lista par de mayor a menor, y los de la lista impar de menor a mayor\n",
    "\n",
    "\n",
    "[Link donde encontre el parametro reverse para la funcion **sort**](https://www.w3schools.com/python/ref_list_sort.asp)"
   ]
  },
  {
   "cell_type": "code",
   "execution_count": 115,
   "metadata": {},
   "outputs": [
    {
     "name": "stdout",
     "output_type": "stream",
     "text": [
      "Lista par de mayor a menor [4, 4, 6, 8, 18, 38, 46, 48, 56, 58, 60, 62, 64, 64, 66, 72, 80, 82, 84, 84, 86, 88, 90]\n",
      "Lista impar de menor a mayor [79, 75, 69, 63, 63, 45, 35, 35, 25, 25, 17, 13, 9, 9, 7, 3, 1]\n"
     ]
    }
   ],
   "source": [
    "lista_par.sort()\n",
    "lista_impar.sort(reverse=True)\n",
    "print(\"Lista par de mayor a menor\", lista_par)\n",
    "print(\"Lista impar de menor a mayor\", lista_impar)"
   ]
  },
  {
   "cell_type": "markdown",
   "metadata": {},
   "source": [
    "- Utilizar al menos cuatro de las funciones de listas en python en la lista original de 40 elementos:\n"
   ]
  },
  {
   "cell_type": "markdown",
   "metadata": {},
   "source": [
    "**Eliminar** el ultimo elemento de la lista"
   ]
  },
  {
   "cell_type": "code",
   "execution_count": 116,
   "metadata": {},
   "outputs": [
    {
     "name": "stdout",
     "output_type": "stream",
     "text": [
      "Elemento eliminado: 4\n",
      "Lista sin elemento eliminado: [64, 1, 7, 63, 62, 13, 75, 9, 35, 82, 9, 84, 60, 48, 90, 4, 25, 66, 79, 18, 58, 88, 80, 56, 84, 46, 86, 45, 35, 64, 6, 17, 8, 38, 25, 3, 72, 63, 69]\n"
     ]
    }
   ],
   "source": [
    "print(\"Elemento eliminado:\", lista_random.pop())\n",
    "print(\"Lista sin elemento eliminado:\", lista_random)"
   ]
  },
  {
   "cell_type": "markdown",
   "metadata": {},
   "source": [
    "**Extender** la lista con nuevos elementos"
   ]
  },
  {
   "cell_type": "code",
   "execution_count": 117,
   "metadata": {},
   "outputs": [
    {
     "name": "stdout",
     "output_type": "stream",
     "text": [
      "Lista extendida: [64, 1, 7, 63, 62, 13, 75, 9, 35, 82, 9, 84, 60, 48, 90, 4, 25, 66, 79, 18, 58, 88, 80, 56, 84, 46, 86, 45, 35, 64, 6, 17, 8, 38, 25, 3, 72, 63, 69, 'hola', 'mundo', 'prueba']\n"
     ]
    }
   ],
   "source": [
    "lista_random.extend(['hola', 'mundo', 'prueba'])\n",
    "print(\"Lista extendida:\", lista_random)"
   ]
  },
  {
   "cell_type": "markdown",
   "metadata": {},
   "source": [
    "**Insertar** un elemento en un lugar especifico de la lista"
   ]
  },
  {
   "cell_type": "code",
   "execution_count": 118,
   "metadata": {},
   "outputs": [
    {
     "name": "stdout",
     "output_type": "stream",
     "text": [
      "Lista con elemento insertado: [64, 'clase mineria', 1, 7, 63, 62, 13, 75, 9, 35, 82, 9, 84, 60, 48, 90, 4, 25, 66, 79, 18, 58, 88, 80, 56, 84, 46, 86, 45, 35, 64, 6, 17, 8, 38, 25, 3, 72, 63, 69, 'hola', 'mundo', 'prueba']\n"
     ]
    }
   ],
   "source": [
    "lista_random.insert(1, 'clase mineria')\n",
    "print(\"Lista con elemento insertado:\", lista_random)"
   ]
  },
  {
   "cell_type": "markdown",
   "metadata": {},
   "source": [
    "**Eliminar** todos los elementos de la lista"
   ]
  },
  {
   "cell_type": "code",
   "execution_count": 119,
   "metadata": {},
   "outputs": [
    {
     "name": "stdout",
     "output_type": "stream",
     "text": [
      "Lista eliminada: []\n"
     ]
    }
   ],
   "source": [
    "lista_random.clear()\n",
    "print(\"Lista eliminada:\", lista_random)"
   ]
  },
  {
   "cell_type": "markdown",
   "metadata": {},
   "source": [
    "**Ejercicios Diccionario**\n",
    "\n",
    "- Crear un diccionario de 6 personas que conozcas con su primer nombre y su edad"
   ]
  },
  {
   "cell_type": "code",
   "execution_count": 120,
   "metadata": {},
   "outputs": [
    {
     "name": "stdout",
     "output_type": "stream",
     "text": [
      "{'Carla': 21, 'Sofia': 25, 'Angeles': 52, 'Martin': 53, 'Marijose': 22, 'Daniela': 30}\n"
     ]
    }
   ],
   "source": [
    "dict1 = {'Carla': 21, 'Sofia': 25, 'Angeles':52, 'Martin':53, 'Marijose':22, 'Daniela':30}\n",
    "print(dict1)\n"
   ]
  },
  {
   "cell_type": "markdown",
   "metadata": {},
   "source": [
    "- Crear una lista con los valores de la edad y reacomodar la lista de menor a mayor valor\n",
    "\n",
    "[Link donde explica el parametro **reverse=True** dentro del metodo **sorted**](https://www.w3schools.com/python/ref_func_sorted.asp)"
   ]
  },
  {
   "cell_type": "code",
   "execution_count": 121,
   "metadata": {},
   "outputs": [
    {
     "name": "stdout",
     "output_type": "stream",
     "text": [
      "Lista de menor a mayor: [53, 52, 30, 25, 22, 21]\n"
     ]
    }
   ],
   "source": [
    "lista_sorted = sorted(list(dict1.values()), reverse=True)\n",
    "print(\"Lista de menor a mayor:\", lista_sorted)"
   ]
  },
  {
   "cell_type": "markdown",
   "metadata": {},
   "source": [
    "- Usando el diccionario y un loop, imprimir solo los nombres"
   ]
  },
  {
   "cell_type": "code",
   "execution_count": 122,
   "metadata": {},
   "outputs": [
    {
     "name": "stdout",
     "output_type": "stream",
     "text": [
      "Carla\n",
      "Sofia\n",
      "Angeles\n",
      "Martin\n",
      "Marijose\n",
      "Daniela\n"
     ]
    }
   ],
   "source": [
    "for i in dict1:\n",
    "    print(i)"
   ]
  },
  {
   "cell_type": "markdown",
   "metadata": {},
   "source": [
    "- Añadir dos personas nuevas a tu diccionario, incluyendo edad."
   ]
  },
  {
   "cell_type": "code",
   "execution_count": 123,
   "metadata": {},
   "outputs": [
    {
     "name": "stdout",
     "output_type": "stream",
     "text": [
      "Diccionario con personas nuevas: {'Carla': 21, 'Sofia': 25, 'Angeles': 52, 'Martin': 53, 'Marijose': 22, 'Daniela': 30, 'Paola': 26, 'Maria': 40}\n"
     ]
    }
   ],
   "source": [
    "dict1['Paola'] = 26\n",
    "dict1['Maria'] = 40\n",
    "print(\"Diccionario con personas nuevas:\", dict1)"
   ]
  },
  {
   "cell_type": "markdown",
   "metadata": {},
   "source": [
    "**Ejercicios Sets**\n",
    "\n",
    "- Crea un set con 100 numeros aleatorios enteros del 1 al 25"
   ]
  },
  {
   "cell_type": "code",
   "execution_count": 131,
   "metadata": {},
   "outputs": [
    {
     "name": "stdout",
     "output_type": "stream",
     "text": [
      "{1, 2, 3, 4, 5, 6, 7, 8, 9, 10, 11, 12, 13, 14, 16, 17, 18, 19, 20, 21, 22, 23, 24, 25}\n"
     ]
    }
   ],
   "source": [
    "set1 = set()\n",
    "for i in range(0, 100):\n",
    "    set1.add(r.randint(1, 25))\n",
    "print(set1)\n"
   ]
  },
  {
   "cell_type": "markdown",
   "metadata": {},
   "source": [
    "- Comprueba la longitud de tu set"
   ]
  },
  {
   "cell_type": "code",
   "execution_count": 132,
   "metadata": {},
   "outputs": [
    {
     "name": "stdout",
     "output_type": "stream",
     "text": [
      "La longitud del set es de 24\n"
     ]
    }
   ],
   "source": [
    "print(\"La longitud del set es de\", len(set1))"
   ]
  },
  {
   "cell_type": "markdown",
   "metadata": {},
   "source": [
    "- Crea una lista de 5 numeros aleatorios del 1 al 10 y comprueba\n",
    "si cada valor aparece en el set inicial"
   ]
  },
  {
   "cell_type": "code",
   "execution_count": 133,
   "metadata": {},
   "outputs": [
    {
     "name": "stdout",
     "output_type": "stream",
     "text": [
      "El elemento 6 si aparece en el set inicial\n",
      "El elemento 9 si aparece en el set inicial\n",
      "El elemento 8 si aparece en el set inicial\n",
      "El elemento 8 si aparece en el set inicial\n",
      "El elemento 3 si aparece en el set inicial\n",
      "[6, 9, 8, 8, 3]\n"
     ]
    }
   ],
   "source": [
    "lista_aleatoria = []\n",
    "for i in range(0, 5):\n",
    "    lista_aleatoria.append(r.randint(1, 10))\n",
    "    \n",
    "for i in lista_aleatoria:\n",
    "    if i in set1:\n",
    "        print(\"El elemento %d si aparece en el set inicial\" %(i))\n",
    "    else:\n",
    "        print(\"El elemento %d no aparece en el set incial\" %(i))\n",
    "    \n",
    "print(lista_aleatoria)\n"
   ]
  },
  {
   "cell_type": "code",
   "execution_count": null,
   "metadata": {},
   "outputs": [],
   "source": []
  }
 ],
 "metadata": {
  "kernelspec": {
   "display_name": "Python 3",
   "language": "python",
   "name": "python3"
  },
  "language_info": {
   "codemirror_mode": {
    "name": "ipython",
    "version": 3
   },
   "file_extension": ".py",
   "mimetype": "text/x-python",
   "name": "python",
   "nbconvert_exporter": "python",
   "pygments_lexer": "ipython3",
   "version": "3.8.3"
  }
 },
 "nbformat": 4,
 "nbformat_minor": 4
}
